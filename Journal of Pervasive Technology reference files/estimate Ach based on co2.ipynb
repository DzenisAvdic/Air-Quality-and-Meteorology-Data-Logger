{
 "cells": [
  {
   "cell_type": "code",
   "execution_count": 1,
   "metadata": {},
   "outputs": [],
   "source": [
    "import pandas as pd\n",
    "import matplotlib.pyplot as plt\n",
    "import numpy as np\n",
    "import os\n",
    "from windrose import WindroseAxes\n",
    "from windrose import plot_windrose\n",
    "import matplotlib.cm as cm\n",
    "from PIL import Image\n",
    "import time\n",
    "from urllib.request import urlopen\n",
    "from bs4 import BeautifulSoup\n",
    "import re\n",
    "from fbprophet import Prophet\n",
    "import math\n",
    "\n",
    "\n",
    "\n",
    "df = pd.read_csv('preprocessed_data_15_weeks.csv')\n",
    "df.ds= pd.to_datetime(df.ds)"
   ]
  },
  {
   "cell_type": "code",
   "execution_count": 2,
   "metadata": {},
   "outputs": [
    {
     "data": {
      "text/html": [
       "<div>\n",
       "<style scoped>\n",
       "    .dataframe tbody tr th:only-of-type {\n",
       "        vertical-align: middle;\n",
       "    }\n",
       "\n",
       "    .dataframe tbody tr th {\n",
       "        vertical-align: top;\n",
       "    }\n",
       "\n",
       "    .dataframe thead th {\n",
       "        text-align: right;\n",
       "    }\n",
       "</style>\n",
       "<table border=\"1\" class=\"dataframe\">\n",
       "  <thead>\n",
       "    <tr style=\"text-align: right;\">\n",
       "      <th></th>\n",
       "      <th>ds</th>\n",
       "      <th>dan</th>\n",
       "      <th>temp</th>\n",
       "      <th>r_hum</th>\n",
       "      <th>co_2</th>\n",
       "      <th>aqi_i</th>\n",
       "      <th>temp_e</th>\n",
       "      <th>r_hum_e</th>\n",
       "      <th>press</th>\n",
       "      <th>wind_s</th>\n",
       "      <th>wind_a</th>\n",
       "      <th>aqi_e</th>\n",
       "    </tr>\n",
       "  </thead>\n",
       "  <tbody>\n",
       "    <tr>\n",
       "      <th>0</th>\n",
       "      <td>2020-12-28 01:00:00</td>\n",
       "      <td>1.0</td>\n",
       "      <td>26.262567</td>\n",
       "      <td>40.976413</td>\n",
       "      <td>728.598900</td>\n",
       "      <td>67.941840</td>\n",
       "      <td>2.410</td>\n",
       "      <td>100.000000</td>\n",
       "      <td>998.0</td>\n",
       "      <td>7.200000</td>\n",
       "      <td>130.0</td>\n",
       "      <td>60.666667</td>\n",
       "    </tr>\n",
       "    <tr>\n",
       "      <th>1</th>\n",
       "      <td>2020-12-28 02:00:00</td>\n",
       "      <td>1.0</td>\n",
       "      <td>25.984767</td>\n",
       "      <td>40.775907</td>\n",
       "      <td>675.325533</td>\n",
       "      <td>65.810073</td>\n",
       "      <td>2.890</td>\n",
       "      <td>100.000000</td>\n",
       "      <td>998.0</td>\n",
       "      <td>4.600000</td>\n",
       "      <td>120.0</td>\n",
       "      <td>52.000000</td>\n",
       "    </tr>\n",
       "    <tr>\n",
       "      <th>2</th>\n",
       "      <td>2020-12-28 03:00:00</td>\n",
       "      <td>1.0</td>\n",
       "      <td>25.831253</td>\n",
       "      <td>40.658130</td>\n",
       "      <td>659.029267</td>\n",
       "      <td>64.538170</td>\n",
       "      <td>2.885</td>\n",
       "      <td>96.500000</td>\n",
       "      <td>999.0</td>\n",
       "      <td>5.400000</td>\n",
       "      <td>155.0</td>\n",
       "      <td>40.333333</td>\n",
       "    </tr>\n",
       "    <tr>\n",
       "      <th>3</th>\n",
       "      <td>2020-12-28 04:00:00</td>\n",
       "      <td>1.0</td>\n",
       "      <td>25.716143</td>\n",
       "      <td>40.527917</td>\n",
       "      <td>642.445900</td>\n",
       "      <td>64.224107</td>\n",
       "      <td>4.110</td>\n",
       "      <td>90.666667</td>\n",
       "      <td>999.0</td>\n",
       "      <td>7.700000</td>\n",
       "      <td>150.0</td>\n",
       "      <td>21.000000</td>\n",
       "    </tr>\n",
       "    <tr>\n",
       "      <th>4</th>\n",
       "      <td>2020-12-28 05:00:00</td>\n",
       "      <td>1.0</td>\n",
       "      <td>25.571363</td>\n",
       "      <td>40.354333</td>\n",
       "      <td>638.112600</td>\n",
       "      <td>64.128677</td>\n",
       "      <td>5.000</td>\n",
       "      <td>84.000000</td>\n",
       "      <td>999.0</td>\n",
       "      <td>5.633333</td>\n",
       "      <td>100.0</td>\n",
       "      <td>11.666667</td>\n",
       "    </tr>\n",
       "  </tbody>\n",
       "</table>\n",
       "</div>"
      ],
      "text/plain": [
       "                   ds  dan       temp      r_hum        co_2      aqi_i  \\\n",
       "0 2020-12-28 01:00:00  1.0  26.262567  40.976413  728.598900  67.941840   \n",
       "1 2020-12-28 02:00:00  1.0  25.984767  40.775907  675.325533  65.810073   \n",
       "2 2020-12-28 03:00:00  1.0  25.831253  40.658130  659.029267  64.538170   \n",
       "3 2020-12-28 04:00:00  1.0  25.716143  40.527917  642.445900  64.224107   \n",
       "4 2020-12-28 05:00:00  1.0  25.571363  40.354333  638.112600  64.128677   \n",
       "\n",
       "   temp_e     r_hum_e  press    wind_s  wind_a      aqi_e  \n",
       "0   2.410  100.000000  998.0  7.200000   130.0  60.666667  \n",
       "1   2.890  100.000000  998.0  4.600000   120.0  52.000000  \n",
       "2   2.885   96.500000  999.0  5.400000   155.0  40.333333  \n",
       "3   4.110   90.666667  999.0  7.700000   150.0  21.000000  \n",
       "4   5.000   84.000000  999.0  5.633333   100.0  11.666667  "
      ]
     },
     "execution_count": 2,
     "metadata": {},
     "output_type": "execute_result"
    }
   ],
   "source": [
    "df.head()"
   ]
  },
  {
   "cell_type": "code",
   "execution_count": 3,
   "metadata": {},
   "outputs": [],
   "source": [
    "#a_hum=(6.112*r_hum*math.exp((17.62*temp)/(243.12+temp)))/(461.5*(temp+273.15))\n",
    "#df['a_hum'] = df.apply(lambda row: (6.112*row['r_hum']*math.exp((17.62*row['temp'])/(243.12+row['temp'])))/(461.5*(row['temp']+273.15)))\n",
    "a_hum = []\n",
    "counter = 0\n",
    "for row in range(len(df['r_hum'])):\n",
    "    ah=(6.112*df['r_hum'][row]*math.exp((17.62*df['temp'][row])/(243.12+df['temp'][row])))/(461.5*(df['temp'][row]+273.15))\n",
    "    a_hum.append(ah)\n",
    "df['a_hum']=a_hum\n",
    "df.head()\n",
    "co2 = df[['ds','co_2','a_hum']].copy()"
   ]
  },
  {
   "cell_type": "code",
   "execution_count": 4,
   "metadata": {},
   "outputs": [],
   "source": [
    "plt.rcParams['figure.figsize']=[16,8]\n",
    "plt.rcParams.update({'font.size':14})"
   ]
  },
  {
   "cell_type": "code",
   "execution_count": 5,
   "metadata": {},
   "outputs": [
    {
     "data": {
      "text/html": [
       "<div>\n",
       "<style scoped>\n",
       "    .dataframe tbody tr th:only-of-type {\n",
       "        vertical-align: middle;\n",
       "    }\n",
       "\n",
       "    .dataframe tbody tr th {\n",
       "        vertical-align: top;\n",
       "    }\n",
       "\n",
       "    .dataframe thead th {\n",
       "        text-align: right;\n",
       "    }\n",
       "</style>\n",
       "<table border=\"1\" class=\"dataframe\">\n",
       "  <thead>\n",
       "    <tr style=\"text-align: right;\">\n",
       "      <th></th>\n",
       "      <th>ds</th>\n",
       "      <th>co_2</th>\n",
       "      <th>a_hum</th>\n",
       "    </tr>\n",
       "  </thead>\n",
       "  <tbody>\n",
       "    <tr>\n",
       "      <th>0</th>\n",
       "      <td>2020-12-28 01:00:00</td>\n",
       "      <td>728.598900</td>\n",
       "      <td>0.010100</td>\n",
       "    </tr>\n",
       "    <tr>\n",
       "      <th>1</th>\n",
       "      <td>2020-12-28 02:00:00</td>\n",
       "      <td>675.325533</td>\n",
       "      <td>0.009896</td>\n",
       "    </tr>\n",
       "    <tr>\n",
       "      <th>2</th>\n",
       "      <td>2020-12-28 03:00:00</td>\n",
       "      <td>659.029267</td>\n",
       "      <td>0.009783</td>\n",
       "    </tr>\n",
       "    <tr>\n",
       "      <th>3</th>\n",
       "      <td>2020-12-28 04:00:00</td>\n",
       "      <td>642.445900</td>\n",
       "      <td>0.009689</td>\n",
       "    </tr>\n",
       "    <tr>\n",
       "      <th>4</th>\n",
       "      <td>2020-12-28 05:00:00</td>\n",
       "      <td>638.112600</td>\n",
       "      <td>0.009570</td>\n",
       "    </tr>\n",
       "    <tr>\n",
       "      <th>5</th>\n",
       "      <td>2020-12-28 06:00:00</td>\n",
       "      <td>747.356633</td>\n",
       "      <td>0.009592</td>\n",
       "    </tr>\n",
       "    <tr>\n",
       "      <th>6</th>\n",
       "      <td>2020-12-28 07:00:00</td>\n",
       "      <td>1245.112667</td>\n",
       "      <td>0.010335</td>\n",
       "    </tr>\n",
       "    <tr>\n",
       "      <th>7</th>\n",
       "      <td>2020-12-28 08:00:00</td>\n",
       "      <td>1551.060000</td>\n",
       "      <td>0.010875</td>\n",
       "    </tr>\n",
       "    <tr>\n",
       "      <th>8</th>\n",
       "      <td>2020-12-28 09:00:00</td>\n",
       "      <td>609.522567</td>\n",
       "      <td>0.009800</td>\n",
       "    </tr>\n",
       "    <tr>\n",
       "      <th>9</th>\n",
       "      <td>2020-12-28 10:00:00</td>\n",
       "      <td>490.182200</td>\n",
       "      <td>0.009391</td>\n",
       "    </tr>\n",
       "    <tr>\n",
       "      <th>10</th>\n",
       "      <td>2020-12-28 11:00:00</td>\n",
       "      <td>403.555567</td>\n",
       "      <td>0.009113</td>\n",
       "    </tr>\n",
       "    <tr>\n",
       "      <th>11</th>\n",
       "      <td>2020-12-28 12:00:00</td>\n",
       "      <td>400.000000</td>\n",
       "      <td>0.008887</td>\n",
       "    </tr>\n",
       "    <tr>\n",
       "      <th>12</th>\n",
       "      <td>2020-12-28 13:00:00</td>\n",
       "      <td>430.269233</td>\n",
       "      <td>0.009070</td>\n",
       "    </tr>\n",
       "    <tr>\n",
       "      <th>13</th>\n",
       "      <td>2020-12-28 14:00:00</td>\n",
       "      <td>604.554767</td>\n",
       "      <td>0.010059</td>\n",
       "    </tr>\n",
       "    <tr>\n",
       "      <th>14</th>\n",
       "      <td>2020-12-28 15:00:00</td>\n",
       "      <td>613.661467</td>\n",
       "      <td>0.010352</td>\n",
       "    </tr>\n",
       "    <tr>\n",
       "      <th>15</th>\n",
       "      <td>2020-12-28 16:00:00</td>\n",
       "      <td>400.000000</td>\n",
       "      <td>0.009396</td>\n",
       "    </tr>\n",
       "    <tr>\n",
       "      <th>16</th>\n",
       "      <td>2020-12-28 17:00:00</td>\n",
       "      <td>400.000000</td>\n",
       "      <td>0.009079</td>\n",
       "    </tr>\n",
       "    <tr>\n",
       "      <th>17</th>\n",
       "      <td>2020-12-28 18:00:00</td>\n",
       "      <td>670.532967</td>\n",
       "      <td>0.009790</td>\n",
       "    </tr>\n",
       "    <tr>\n",
       "      <th>18</th>\n",
       "      <td>2020-12-28 19:00:00</td>\n",
       "      <td>825.778900</td>\n",
       "      <td>0.010648</td>\n",
       "    </tr>\n",
       "    <tr>\n",
       "      <th>19</th>\n",
       "      <td>2020-12-28 20:00:00</td>\n",
       "      <td>917.048500</td>\n",
       "      <td>0.011159</td>\n",
       "    </tr>\n",
       "    <tr>\n",
       "      <th>20</th>\n",
       "      <td>2020-12-28 21:00:00</td>\n",
       "      <td>1039.678100</td>\n",
       "      <td>0.011472</td>\n",
       "    </tr>\n",
       "    <tr>\n",
       "      <th>21</th>\n",
       "      <td>2020-12-28 22:00:00</td>\n",
       "      <td>1104.690000</td>\n",
       "      <td>0.011716</td>\n",
       "    </tr>\n",
       "    <tr>\n",
       "      <th>22</th>\n",
       "      <td>2020-12-28 23:00:00</td>\n",
       "      <td>558.697400</td>\n",
       "      <td>0.010687</td>\n",
       "    </tr>\n",
       "    <tr>\n",
       "      <th>23</th>\n",
       "      <td>2020-12-29 00:00:00</td>\n",
       "      <td>474.325900</td>\n",
       "      <td>0.010240</td>\n",
       "    </tr>\n",
       "  </tbody>\n",
       "</table>\n",
       "</div>"
      ],
      "text/plain": [
       "                    ds         co_2     a_hum\n",
       "0  2020-12-28 01:00:00   728.598900  0.010100\n",
       "1  2020-12-28 02:00:00   675.325533  0.009896\n",
       "2  2020-12-28 03:00:00   659.029267  0.009783\n",
       "3  2020-12-28 04:00:00   642.445900  0.009689\n",
       "4  2020-12-28 05:00:00   638.112600  0.009570\n",
       "5  2020-12-28 06:00:00   747.356633  0.009592\n",
       "6  2020-12-28 07:00:00  1245.112667  0.010335\n",
       "7  2020-12-28 08:00:00  1551.060000  0.010875\n",
       "8  2020-12-28 09:00:00   609.522567  0.009800\n",
       "9  2020-12-28 10:00:00   490.182200  0.009391\n",
       "10 2020-12-28 11:00:00   403.555567  0.009113\n",
       "11 2020-12-28 12:00:00   400.000000  0.008887\n",
       "12 2020-12-28 13:00:00   430.269233  0.009070\n",
       "13 2020-12-28 14:00:00   604.554767  0.010059\n",
       "14 2020-12-28 15:00:00   613.661467  0.010352\n",
       "15 2020-12-28 16:00:00   400.000000  0.009396\n",
       "16 2020-12-28 17:00:00   400.000000  0.009079\n",
       "17 2020-12-28 18:00:00   670.532967  0.009790\n",
       "18 2020-12-28 19:00:00   825.778900  0.010648\n",
       "19 2020-12-28 20:00:00   917.048500  0.011159\n",
       "20 2020-12-28 21:00:00  1039.678100  0.011472\n",
       "21 2020-12-28 22:00:00  1104.690000  0.011716\n",
       "22 2020-12-28 23:00:00   558.697400  0.010687\n",
       "23 2020-12-29 00:00:00   474.325900  0.010240"
      ]
     },
     "execution_count": 5,
     "metadata": {},
     "output_type": "execute_result"
    }
   ],
   "source": [
    "co2.resample('H', on='ds').co_2.mean()\n",
    "co2.resample('H', on='ds').a_hum.mean()\n",
    "co2.head(24)"
   ]
  },
  {
   "cell_type": "code",
   "execution_count": 6,
   "metadata": {},
   "outputs": [
    {
     "name": "stdout",
     "output_type": "stream",
     "text": [
      "21    0.011716\n",
      "22    0.010687\n",
      "0     0.010100\n",
      "1     0.009896\n",
      "2     0.009783\n",
      "3     0.009689\n",
      "4     0.009570\n",
      "Name: a_hum, dtype: float64\n"
     ]
    }
   ],
   "source": [
    "ach1 = co2.a_hum[0:5]\n",
    "ach2 = co2.a_hum[21:23]\n",
    "ach = ach2.append(ach1)\n",
    "print(ach)"
   ]
  },
  {
   "cell_type": "code",
   "execution_count": 7,
   "metadata": {},
   "outputs": [
    {
     "name": "stdout",
     "output_type": "stream",
     "text": [
      "0    728.598900\n",
      "1    675.325533\n",
      "2    659.029267\n",
      "3    642.445900\n",
      "Name: co_2, dtype: float64\n"
     ]
    }
   ],
   "source": [
    "ach = co2.co_2[0:4]\n",
    "print(ach)"
   ]
  },
  {
   "cell_type": "code",
   "execution_count": 8,
   "metadata": {},
   "outputs": [
    {
     "name": "stderr",
     "output_type": "stream",
     "text": [
      "C:\\ProgramData\\Anaconda3\\lib\\site-packages\\matplotlib\\cbook\\__init__.py:1402: FutureWarning: Support for multi-dimensional indexing (e.g. `obj[:, None]`) is deprecated and will be removed in a future version.  Convert to a numpy array before indexing instead.\n",
      "  ndim = x[:, None].ndim\n",
      "C:\\ProgramData\\Anaconda3\\lib\\site-packages\\matplotlib\\axes\\_base.py:278: FutureWarning: Support for multi-dimensional indexing (e.g. `obj[:, None]`) is deprecated and will be removed in a future version.  Convert to a numpy array before indexing instead.\n",
      "  y = y[:, np.newaxis]\n"
     ]
    },
    {
     "data": {
      "text/plain": [
       "<matplotlib.legend.Legend at 0x1b56fc55f88>"
      ]
     },
     "execution_count": 8,
     "metadata": {},
     "output_type": "execute_result"
    },
    {
     "data": {
      "image/png": "[encoded data removed]",
      "text/plain": [
       "<Figure size 1152x576 with 1 Axes>"
      ]
     },
     "metadata": {
      "needs_background": "light"
     },
     "output_type": "display_data"
    }
   ],
   "source": [
    "plt.rcParams['figure.figsize']=[16,8]\n",
    "plt.rcParams.update({'font.size':10})\n",
    "plt.yscale('log')\n",
    "#plt.plot(co2.ds[500:600],co2.a_hum[500:600],color='c',LineWidth=1.5,label='water vapour')\n",
    "#plt.plot(co2['ds'][776:782],co2.co_2[776:782],color='k',LineWidth=1.5,label='CO2')\n",
    "plt.plot(np.arange(len(co2['ds'][0:5])),co2.co_2[0:5],color='k',LineWidth=1.5,label='28.12.20. (01:00-05:00)')\n",
    "plt.plot(np.arange(len(co2['ds'][201:206])),co2.co_2[201:206],color='k',LineWidth=1.5,label='05.01.21. (01:00-05:00)')\n",
    "plt.plot(np.arange(len(co2['ds'][393:398])),co2.co_2[393:398],color='k',LineWidth=1.5,label='13.01.21. (01:00-05:00)')\n",
    "plt.plot(np.arange(len(co2['ds'][633:638])),co2.co_2[633:638],color='k',LineWidth=1.5,label='24.01.21. (01:00-05:00)')\n",
    "plt.plot(np.arange(len(co2['ds'][729:734])),co2.co_2[729:734],color='k',LineWidth=1.5,label='28.01.21. (01:00-05:00)')\n",
    "plt.plot(np.arange(len(co2['ds'][801:806])),co2.co_2[801:806],color='k',LineWidth=1.5,label='31.01.21. (01:00-05:00)')\n",
    "plt.plot(np.arange(len(co2['ds'][825:830])),co2.co_2[825:830],color='k',LineWidth=1.5,label='01.02.21. (01:00-05:00)')\n",
    "plt.plot(np.arange(len(co2['ds'][1324:1329])),co2.co_2[1324:1329],color='k',LineWidth=1.5,label='23.02.21. (01:00-05:00)')\n",
    "plt.plot(np.arange(len(co2['ds'][1741:1746])),co2.co_2[1741:1746],color='k',LineWidth=1.5,label='13.03.21. (00:00-04:00)')\n",
    "plt.plot(np.arange(len(co2['ds'][1980:1985])),co2.co_2[1980:1985],color='k',LineWidth=1.5,label='23.03.21. (00:00-04:00)')\n",
    "\n",
    "#fit = np.polyfit(np.arange(co2['ds'][776:782].size), np.log(co2.co_2[776:782]), 1)\n",
    "#fit_function = np.poly1d(fit)\n",
    "\n",
    "#plt.plot(co2['ds'][776:782], fit_function(np.arange(co2['ds'][776:782].size)), color='r',LineWidth=2,label='CO2 fit')\n",
    "#plt.plot(df['epoch_t'],df['temp_clean'],color='c',LineWidth=1.5,label='T_simplified')\n",
    "#plt.xlim(df['epoch_t'][0],df['epoch_t'][-1])\n",
    "plt.xticks(rotation=90)\n",
    "plt.legend()"
   ]
  },
  {
   "cell_type": "code",
   "execution_count": 9,
   "metadata": {},
   "outputs": [
    {
     "name": "stdout",
     "output_type": "stream",
     "text": [
      "-0.030383297388262818\n",
      "-0.050274280117774725\n",
      "-0.09319067231668776\n"
     ]
    }
   ],
   "source": [
    "selected_slopes = []\n",
    "x = np.arange(co2['ds'][0:5].size)\n",
    "fit = np.polyfit(x, np.log(co2['co_2'][0:5]), deg=1)\n",
    "selected_slopes.append(fit[0])\n",
    "x = np.arange(co2['ds'][0:5].size)\n",
    "fit = np.polyfit(x, np.log(co2['co_2'][201:206]), deg=1)\n",
    "selected_slopes.append(fit[0])\n",
    "x = np.arange(co2['ds'][0:5].size)\n",
    "fit = np.polyfit(x, np.log(co2['co_2'][393:398]), deg=1)\n",
    "selected_slopes.append(fit[0])\n",
    "fit = np.polyfit(x, np.log(co2['co_2'][633:638]), deg=1)\n",
    "selected_slopes.append(fit[0])\n",
    "fit = np.polyfit(x, np.log(co2['co_2'][729:734]), deg=1)\n",
    "selected_slopes.append(fit[0])\n",
    "fit = np.polyfit(x, np.log(co2['co_2'][801:806]), deg=1)\n",
    "selected_slopes.append(fit[0])\n",
    "fit = np.polyfit(x, np.log(co2['co_2'][825:830]), deg=1)\n",
    "selected_slopes.append(fit[0])\n",
    "fit = np.polyfit(x, np.log(co2['co_2'][1324:1329]), deg=1)\n",
    "selected_slopes.append(fit[0])\n",
    "fit = np.polyfit(x, np.log(co2['co_2'][1741:1746]), deg=1)\n",
    "selected_slopes.append(fit[0])\n",
    "fit = np.polyfit(x, np.log(co2['co_2'][1980:1985]), deg=1)\n",
    "selected_slopes.append(fit[0])\n",
    "print(max(selected_slopes))\n",
    "print(sum(selected_slopes)/len(selected_slopes))\n",
    "print(min(selected_slopes))"
   ]
  },
  {
   "cell_type": "code",
   "execution_count": 29,
   "metadata": {},
   "outputs": [
    {
     "data": {
      "text/plain": [
       "<matplotlib.legend.Legend at 0x1b575045108>"
      ]
     },
     "execution_count": 29,
     "metadata": {},
     "output_type": "execute_result"
    },
    {
     "data": {
      "image/png": "[encoded data removed]",
      "text/plain": [
       "<Figure size 1152x576 with 1 Axes>"
      ]
     },
     "metadata": {
      "needs_background": "light"
     },
     "output_type": "display_data"
    }
   ],
   "source": [
    "#plt.rcParams['figure.figsize']=[16,8]\n",
    "#plt.rcParams.update({'font.size':10})\n",
    "#plt.yscale('log', subsy=[0,1,2,3,4,5,6,7,8,9,10,11,12,13,14,15,16,17,18,19,20,21,22,23,24,25,26,27,28,29,30])\n",
    "plt.plot(co2['ds'][300:450],co2['co_2'][300:450],color='k',LineWidth=1,label='CO2')\n",
    "plt.plot(co2['ds'][331:339],co2['co_2'][331:339],color='r',LineWidth=2.5,label='free concentration decay')\n",
    "plt.plot(co2['ds'][308:315],co2['co_2'][308:315],color='r',LineWidth=2.5)\n",
    "plt.plot(co2['ds'][355:363],co2['co_2'][355:363],color='r',LineWidth=2.5)\n",
    "plt.plot(co2['ds'][378:387],co2['co_2'][378:387],color='r',LineWidth=2.5)\n",
    "#plt.plot(co2['ds'][391:398],co2['co_2'][391:398],color='r',LineWidth=2.5,label='CO2')\n",
    "plt.plot(co2['ds'][399:410],co2['co_2'][399:410],color='r',LineWidth=2.5)\n",
    "plt.plot(co2['ds'][427:435],co2['co_2'][427:435],color='r',LineWidth=2.5)\n",
    "plt.xticks(rotation=90)\n",
    "plt.legend()"
   ]
  },
  {
   "cell_type": "code",
   "execution_count": 261,
   "metadata": {},
   "outputs": [
    {
     "name": "stdout",
     "output_type": "stream",
     "text": [
      "-0.12494366754530772\n",
      "-0.08665594149419549\n",
      "-0.14626054394351257\n",
      "[-0.13892109480910383, -0.1359144727460489, -0.10680099099806331, -0.1351089612809222, -0.08665594149419549, -0.14626054394351257]\n"
     ]
    }
   ],
   "source": [
    "avg_slope = []\n",
    "slope, intercept = np.polyfit(range(8), np.log(co2.co_2[331:339]), 1)\n",
    "avg_slope.append(slope)\n",
    "slope, intercept = np.polyfit(range(7), np.log(co2.co_2[308:315]), 1)\n",
    "avg_slope.append(slope)\n",
    "slope, intercept = np.polyfit(range(8), np.log(co2.co_2[355:363]), 1)\n",
    "avg_slope.append(slope)\n",
    "slope, intercept = np.polyfit(range(9), np.log(co2.co_2[378:387]), 1)\n",
    "avg_slope.append(slope)\n",
    "slope, intercept = np.polyfit(range(11), np.log(co2.co_2[399:410]), 1)\n",
    "avg_slope.append(slope)\n",
    "slope, intercept = np.polyfit(range(8), np.log(co2.co_2[427:435]), 1)\n",
    "avg_slope.append(slope)\n",
    "print(sum(avg_slope)/len(avg_slope))\n",
    "print(max(avg_slope))\n",
    "print(min(avg_slope))\n",
    "print(avg_slope)"
   ]
  },
  {
   "cell_type": "code",
   "execution_count": 198,
   "metadata": {},
   "outputs": [
    {
     "name": "stdout",
     "output_type": "stream",
     "text": [
      "0.0773706586631485\n",
      "0.3929040997843982\n",
      "0.005338430550595241\n"
     ]
    }
   ],
   "source": [
    "ach = []\n",
    "for i in range(len(co2)):\n",
    "    #ach_list.append(co2.co_2[(0+24*i):(5+24*i)])\n",
    "    try:\n",
    "        slope, intercept = np.polyfit(range(len(co2.co_2[(1+23*i):(3+23*i)])), np.log(co2.co_2[(1+24*i):(3+24*i)]), 1)\n",
    "        if slope < 0:\n",
    "            ach.append(abs(slope))\n",
    "        else: continue\n",
    "    except: break\n",
    "    #print(slope)\n",
    "print(sum(ach)/len(ach))\n",
    "print(max(ach))\n",
    "print(min(ach))"
   ]
  },
  {
   "cell_type": "code",
   "execution_count": 199,
   "metadata": {},
   "outputs": [
    {
     "name": "stdout",
     "output_type": "stream",
     "text": [
      "0.01590187890593103\n",
      "0.08845999605592247\n",
      "0.0013521934375342326\n"
     ]
    }
   ],
   "source": [
    "ach = []\n",
    "for i in range(len(co2)):\n",
    "    #ach_list.append(co2.co_2[(0+24*i):(5+24*i)])\n",
    "    try:\n",
    "        slope, intercept = np.polyfit(range(len(co2.a_hum[(1+23*i):(3+23*i)])), np.log(co2.a_hum[(1+24*i):(3+24*i)]), 1)\n",
    "        if slope < 0:\n",
    "            ach.append(abs(slope))\n",
    "        else: continue\n",
    "    except: break\n",
    "    #print(slope)\n",
    "print(sum(ach)/len(ach))\n",
    "print(max(ach))\n",
    "print(min(ach))"
   ]
  },
  {
   "cell_type": "code",
   "execution_count": 29,
   "metadata": {},
   "outputs": [
    {
     "name": "stdout",
     "output_type": "stream",
     "text": [
      "-0.23205240634818391\n"
     ]
    }
   ],
   "source": [
    "slope, intercept = np.polyfit(range(2), np.log(co2.co_2[501:503]), 1)\n",
    "print(slope)"
   ]
  },
  {
   "cell_type": "code",
   "execution_count": 44,
   "metadata": {},
   "outputs": [
    {
     "name": "stdout",
     "output_type": "stream",
     "text": [
      "-0.08737269760894574\n"
     ]
    }
   ],
   "source": [
    "slope, intercept = np.polyfit(range(6), np.log(co2.co_2[776:782]), 1)\n",
    "print(slope)"
   ]
  },
  {
   "cell_type": "code",
   "execution_count": null,
   "metadata": {},
   "outputs": [],
   "source": []
  }
 ],
 "metadata": {
  "kernelspec": {
   "display_name": "Python 3",
   "language": "python",
   "name": "python3"
  },
  "language_info": {
   "codemirror_mode": {
    "name": "ipython",
    "version": 3
   },
   "file_extension": ".py",
   "mimetype": "text/x-python",
   "name": "python",
   "nbconvert_exporter": "python",
   "pygments_lexer": "ipython3",
   "version": "3.8.8"
  }
 },
 "nbformat": 4,
 "nbformat_minor": 2
}
