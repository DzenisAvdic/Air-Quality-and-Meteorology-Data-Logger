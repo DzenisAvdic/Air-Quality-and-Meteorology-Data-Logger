{
 "cells": [
  {
   "cell_type": "code",
   "execution_count": 19,
   "metadata": {},
   "outputs": [],
   "source": [
    "import pandas as pd\n",
    "import matplotlib.pyplot as plt\n",
    "import numpy as np\n",
    "import os\n",
    "import warnings\n",
    "from windrose import WindroseAxes\n",
    "from windrose import plot_windrose\n",
    "import matplotlib.cm as cm\n",
    "from PIL import Image\n",
    "import time\n",
    "from urllib.request import urlopen\n",
    "from bs4 import BeautifulSoup\n",
    "import re\n",
    "from fbprophet import Prophet\n",
    "import math\n",
    "import datetime as dt\n",
    "from collections import UserDict\n",
    "from sklearn.preprocessing import MinMaxScaler\n",
    "from IPython.display import Image\n",
    "%matplotlib inline\n",
    "\n",
    "#from common.utils import load_data, mape\n",
    "\n",
    "#pd.options.display.float_format='{:,.2f}'.format\n",
    "#np.set_printoptions(precision=2)\n",
    "warnings.filterwarnings(\"ignore\")\n",
    "\n",
    "\n",
    "\n",
    "df = pd.read_csv('preprocessed_data_15_weeks.csv')\n",
    "df.ds= pd.to_datetime(df.ds)"
   ]
  },
  {
   "cell_type": "code",
   "execution_count": 20,
   "metadata": {},
   "outputs": [
    {
     "data": {
      "image/png": "[encoded data removed]",
      "text/plain": [
       "<Figure size 288x288 with 1 Axes>"
      ]
     },
     "metadata": {
      "needs_background": "light"
     },
     "output_type": "display_data"
    }
   ],
   "source": [
    "plt.matshow(df.corr())\n",
    "plt.show()"
   ]
  },
  {
   "cell_type": "code",
   "execution_count": 21,
   "metadata": {},
   "outputs": [
    {
     "data": {
      "text/html": [
       "<div>\n",
       "<style scoped>\n",
       "    .dataframe tbody tr th:only-of-type {\n",
       "        vertical-align: middle;\n",
       "    }\n",
       "\n",
       "    .dataframe tbody tr th {\n",
       "        vertical-align: top;\n",
       "    }\n",
       "\n",
       "    .dataframe thead th {\n",
       "        text-align: right;\n",
       "    }\n",
       "</style>\n",
       "<table border=\"1\" class=\"dataframe\">\n",
       "  <thead>\n",
       "    <tr style=\"text-align: right;\">\n",
       "      <th></th>\n",
       "      <th>ds</th>\n",
       "      <th>dan</th>\n",
       "      <th>temp</th>\n",
       "      <th>r_hum</th>\n",
       "      <th>co_2</th>\n",
       "      <th>aqi_i</th>\n",
       "      <th>temp_e</th>\n",
       "      <th>r_hum_e</th>\n",
       "      <th>press</th>\n",
       "      <th>wind_s</th>\n",
       "      <th>wind_a</th>\n",
       "      <th>aqi_e</th>\n",
       "      <th>a_hum</th>\n",
       "    </tr>\n",
       "  </thead>\n",
       "  <tbody>\n",
       "    <tr>\n",
       "      <th>0</th>\n",
       "      <td>2020-12-28 01:00:00</td>\n",
       "      <td>1.0</td>\n",
       "      <td>26.262567</td>\n",
       "      <td>40.976413</td>\n",
       "      <td>728.598900</td>\n",
       "      <td>67.941840</td>\n",
       "      <td>2.410</td>\n",
       "      <td>100.000000</td>\n",
       "      <td>998.0</td>\n",
       "      <td>7.200000</td>\n",
       "      <td>130.0</td>\n",
       "      <td>60.666667</td>\n",
       "      <td>0.010100</td>\n",
       "    </tr>\n",
       "    <tr>\n",
       "      <th>1</th>\n",
       "      <td>2020-12-28 02:00:00</td>\n",
       "      <td>1.0</td>\n",
       "      <td>25.984767</td>\n",
       "      <td>40.775907</td>\n",
       "      <td>675.325533</td>\n",
       "      <td>65.810073</td>\n",
       "      <td>2.890</td>\n",
       "      <td>100.000000</td>\n",
       "      <td>998.0</td>\n",
       "      <td>4.600000</td>\n",
       "      <td>120.0</td>\n",
       "      <td>52.000000</td>\n",
       "      <td>0.009896</td>\n",
       "    </tr>\n",
       "    <tr>\n",
       "      <th>2</th>\n",
       "      <td>2020-12-28 03:00:00</td>\n",
       "      <td>1.0</td>\n",
       "      <td>25.831253</td>\n",
       "      <td>40.658130</td>\n",
       "      <td>659.029267</td>\n",
       "      <td>64.538170</td>\n",
       "      <td>2.885</td>\n",
       "      <td>96.500000</td>\n",
       "      <td>999.0</td>\n",
       "      <td>5.400000</td>\n",
       "      <td>155.0</td>\n",
       "      <td>40.333333</td>\n",
       "      <td>0.009783</td>\n",
       "    </tr>\n",
       "    <tr>\n",
       "      <th>3</th>\n",
       "      <td>2020-12-28 04:00:00</td>\n",
       "      <td>1.0</td>\n",
       "      <td>25.716143</td>\n",
       "      <td>40.527917</td>\n",
       "      <td>642.445900</td>\n",
       "      <td>64.224107</td>\n",
       "      <td>4.110</td>\n",
       "      <td>90.666667</td>\n",
       "      <td>999.0</td>\n",
       "      <td>7.700000</td>\n",
       "      <td>150.0</td>\n",
       "      <td>21.000000</td>\n",
       "      <td>0.009689</td>\n",
       "    </tr>\n",
       "    <tr>\n",
       "      <th>4</th>\n",
       "      <td>2020-12-28 05:00:00</td>\n",
       "      <td>1.0</td>\n",
       "      <td>25.571363</td>\n",
       "      <td>40.354333</td>\n",
       "      <td>638.112600</td>\n",
       "      <td>64.128677</td>\n",
       "      <td>5.000</td>\n",
       "      <td>84.000000</td>\n",
       "      <td>999.0</td>\n",
       "      <td>5.633333</td>\n",
       "      <td>100.0</td>\n",
       "      <td>11.666667</td>\n",
       "      <td>0.009570</td>\n",
       "    </tr>\n",
       "  </tbody>\n",
       "</table>\n",
       "</div>"
      ],
      "text/plain": [
       "                   ds  dan       temp      r_hum        co_2      aqi_i  \\\n",
       "0 2020-12-28 01:00:00  1.0  26.262567  40.976413  728.598900  67.941840   \n",
       "1 2020-12-28 02:00:00  1.0  25.984767  40.775907  675.325533  65.810073   \n",
       "2 2020-12-28 03:00:00  1.0  25.831253  40.658130  659.029267  64.538170   \n",
       "3 2020-12-28 04:00:00  1.0  25.716143  40.527917  642.445900  64.224107   \n",
       "4 2020-12-28 05:00:00  1.0  25.571363  40.354333  638.112600  64.128677   \n",
       "\n",
       "   temp_e     r_hum_e  press    wind_s  wind_a      aqi_e     a_hum  \n",
       "0   2.410  100.000000  998.0  7.200000   130.0  60.666667  0.010100  \n",
       "1   2.890  100.000000  998.0  4.600000   120.0  52.000000  0.009896  \n",
       "2   2.885   96.500000  999.0  5.400000   155.0  40.333333  0.009783  \n",
       "3   4.110   90.666667  999.0  7.700000   150.0  21.000000  0.009689  \n",
       "4   5.000   84.000000  999.0  5.633333   100.0  11.666667  0.009570  "
      ]
     },
     "execution_count": 21,
     "metadata": {},
     "output_type": "execute_result"
    }
   ],
   "source": [
    "#a_hum=(6.112*r_hum*math.exp((17.62*temp)/(243.12+temp)))/(461.5*(temp+273.15))\n",
    "#df['a_hum'] = df.apply(lambda row: (6.112*row['r_hum']*math.exp((17.62*row['temp'])/(243.12+row['temp'])))/(461.5*(row['temp']+273.15)))\n",
    "a_hum = []\n",
    "counter = 0\n",
    "for row in range(len(df['r_hum'])):\n",
    "    ah=(6.112*df['r_hum'][row]*math.exp((17.62*df['temp'][row])/(243.12+df['temp'][row])))/(461.5*(df['temp'][row]+273.15))\n",
    "    a_hum.append(ah)\n",
    "df['a_hum']=a_hum\n",
    "df.head()\n",
    "#df=df.set_index('ds')"
   ]
  },
  {
   "cell_type": "code",
   "execution_count": 22,
   "metadata": {},
   "outputs": [
    {
     "data": {
      "text/plain": [
       "(2460, 6)"
      ]
     },
     "execution_count": 22,
     "metadata": {},
     "output_type": "execute_result"
    }
   ],
   "source": [
    "df = df.drop(['ds', 'dan', 'temp','r_hum','temp_e','r_hum_e'], axis=1)\n",
    "df['wind_component'] = df['wind_s'] * np.sin(df['wind_a'])\n",
    "df['wind_component'] = df['wind_component'].clip(lower=0)\n",
    "df = df.drop(['wind_s', 'wind_a'], axis=1)\n",
    "#df = df[df.co_2 > 1200]\n",
    "df.shape"
   ]
  },
  {
   "cell_type": "code",
   "execution_count": 23,
   "metadata": {},
   "outputs": [
    {
     "data": {
      "text/html": [
       "<div>\n",
       "<style scoped>\n",
       "    .dataframe tbody tr th:only-of-type {\n",
       "        vertical-align: middle;\n",
       "    }\n",
       "\n",
       "    .dataframe tbody tr th {\n",
       "        vertical-align: top;\n",
       "    }\n",
       "\n",
       "    .dataframe thead th {\n",
       "        text-align: right;\n",
       "    }\n",
       "</style>\n",
       "<table border=\"1\" class=\"dataframe\">\n",
       "  <thead>\n",
       "    <tr style=\"text-align: right;\">\n",
       "      <th></th>\n",
       "      <th>co_2</th>\n",
       "      <th>aqi_i</th>\n",
       "      <th>press</th>\n",
       "      <th>aqi_e</th>\n",
       "      <th>a_hum</th>\n",
       "      <th>wind_component</th>\n",
       "    </tr>\n",
       "  </thead>\n",
       "  <tbody>\n",
       "    <tr>\n",
       "      <th>0</th>\n",
       "      <td>728.598900</td>\n",
       "      <td>67.941840</td>\n",
       "      <td>998.0</td>\n",
       "      <td>60.666667</td>\n",
       "      <td>0.010100</td>\n",
       "      <td>0.000000</td>\n",
       "    </tr>\n",
       "    <tr>\n",
       "      <th>1</th>\n",
       "      <td>675.325533</td>\n",
       "      <td>65.810073</td>\n",
       "      <td>998.0</td>\n",
       "      <td>52.000000</td>\n",
       "      <td>0.009896</td>\n",
       "      <td>2.670811</td>\n",
       "    </tr>\n",
       "    <tr>\n",
       "      <th>2</th>\n",
       "      <td>659.029267</td>\n",
       "      <td>64.538170</td>\n",
       "      <td>999.0</td>\n",
       "      <td>40.333333</td>\n",
       "      <td>0.009783</td>\n",
       "      <td>0.000000</td>\n",
       "    </tr>\n",
       "    <tr>\n",
       "      <th>3</th>\n",
       "      <td>642.445900</td>\n",
       "      <td>64.224107</td>\n",
       "      <td>999.0</td>\n",
       "      <td>21.000000</td>\n",
       "      <td>0.009689</td>\n",
       "      <td>0.000000</td>\n",
       "    </tr>\n",
       "    <tr>\n",
       "      <th>4</th>\n",
       "      <td>638.112600</td>\n",
       "      <td>64.128677</td>\n",
       "      <td>999.0</td>\n",
       "      <td>11.666667</td>\n",
       "      <td>0.009570</td>\n",
       "      <td>0.000000</td>\n",
       "    </tr>\n",
       "  </tbody>\n",
       "</table>\n",
       "</div>"
      ],
      "text/plain": [
       "         co_2      aqi_i  press      aqi_e     a_hum  wind_component\n",
       "0  728.598900  67.941840  998.0  60.666667  0.010100        0.000000\n",
       "1  675.325533  65.810073  998.0  52.000000  0.009896        2.670811\n",
       "2  659.029267  64.538170  999.0  40.333333  0.009783        0.000000\n",
       "3  642.445900  64.224107  999.0  21.000000  0.009689        0.000000\n",
       "4  638.112600  64.128677  999.0  11.666667  0.009570        0.000000"
      ]
     },
     "execution_count": 23,
     "metadata": {},
     "output_type": "execute_result"
    }
   ],
   "source": [
    "df.head()"
   ]
  },
  {
   "cell_type": "code",
   "execution_count": 24,
   "metadata": {},
   "outputs": [
    {
     "data": {
      "text/plain": [
       "(485, 6)"
      ]
     },
     "execution_count": 24,
     "metadata": {},
     "output_type": "execute_result"
    }
   ],
   "source": [
    "df = df[df.co_2 < 1200]\n",
    "df.shape\n",
    "\n",
    "#x = df.values #returns a numpy array\n",
    "#min_max_scaler = MinMaxScaler()\n",
    "#x_scaled = min_max_scaler.fit_transform(x)\n",
    "#df = pd.DataFrame(x_scaled)\n",
    "#df.head()"
   ]
  },
  {
   "cell_type": "code",
   "execution_count": 25,
   "metadata": {},
   "outputs": [
    {
     "data": {
      "text/plain": [
       "<matplotlib.axes._subplots.AxesSubplot at 0x20bdb2dc808>"
      ]
     },
     "execution_count": 25,
     "metadata": {},
     "output_type": "execute_result"
    },
    {
     "data": {
      "image/png": "[encoded data removed]",
      "text/plain": [
       "<Figure size 792x648 with 2 Axes>"
      ]
     },
     "metadata": {},
     "output_type": "display_data"
    }
   ],
   "source": [
    "from string import ascii_letters\n",
    "import numpy as np\n",
    "import pandas as pd\n",
    "import seaborn as sns\n",
    "import matplotlib.pyplot as plt\n",
    "\n",
    "sns.set(style=\"white\")\n",
    "\n",
    "\n",
    "# Compute the correlation matrix\n",
    "corr = df.corr()\n",
    "\n",
    "# Generate a mask for the upper triangle\n",
    "mask = np.triu(np.ones_like(corr, dtype=bool))\n",
    "\n",
    "# Set up the matplotlib figure\n",
    "f, ax = plt.subplots(figsize=(11, 9))\n",
    "\n",
    "# Generate a custom diverging colormap\n",
    "cmap = sns.diverging_palette(230, 20, as_cmap=True)\n",
    "\n",
    "# Draw the heatmap with the mask and correct aspect ratio\n",
    "sns.heatmap(corr, mask=mask, cmap=cmap, vmax=.3, center=0,\n",
    "            square=True, linewidths=.5, cbar_kws={\"shrink\": .5})"
   ]
  },
  {
   "cell_type": "code",
   "execution_count": null,
   "metadata": {},
   "outputs": [],
   "source": []
  }
 ],
 "metadata": {
  "kernelspec": {
   "display_name": "Python 3",
   "language": "python",
   "name": "python3"
  },
  "language_info": {
   "codemirror_mode": {
    "name": "ipython",
    "version": 3
   },
   "file_extension": ".py",
   "mimetype": "text/x-python",
   "name": "python",
   "nbconvert_exporter": "python",
   "pygments_lexer": "ipython3",
   "version": "3.8.8"
  }
 },
 "nbformat": 4,
 "nbformat_minor": 2
}
