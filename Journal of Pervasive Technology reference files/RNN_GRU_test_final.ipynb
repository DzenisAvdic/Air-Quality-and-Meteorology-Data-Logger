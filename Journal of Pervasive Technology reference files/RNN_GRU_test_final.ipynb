{
 "cells": [
  {
   "cell_type": "code",
   "execution_count": 1,
   "metadata": {},
   "outputs": [],
   "source": [
    "import pandas as pd\n",
    "import matplotlib.pyplot as plt\n",
    "import numpy as np\n",
    "import os\n",
    "import warnings\n",
    "from windrose import WindroseAxes\n",
    "from windrose import plot_windrose\n",
    "import matplotlib.cm as cm\n",
    "from PIL import Image\n",
    "import time\n",
    "from urllib.request import urlopen\n",
    "from bs4 import BeautifulSoup\n",
    "import re\n",
    "from fbprophet import Prophet\n",
    "import math\n",
    "import datetime as dt\n",
    "from collections import UserDict\n",
    "from sklearn.preprocessing import MinMaxScaler\n",
    "from IPython.display import Image\n",
    "%matplotlib inline\n",
    "\n",
    "#from common.utils import load_data, mape\n",
    "\n",
    "#pd.options.display.float_format='{:,.2f}'.format\n",
    "#np.set_printoptions(precision=2)\n",
    "warnings.filterwarnings(\"ignore\")\n",
    "\n",
    "\n",
    "\n",
    "df = pd.read_csv('preprocessed_data_15_weeks.csv')\n",
    "df.ds= pd.to_datetime(df.ds)"
   ]
  },
  {
   "cell_type": "code",
   "execution_count": 2,
   "metadata": {},
   "outputs": [
    {
     "data": {
      "image/png": "[encoded data removed]",
      "text/plain": [
       "<Figure size 288x288 with 1 Axes>"
      ]
     },
     "metadata": {
      "needs_background": "light"
     },
     "output_type": "display_data"
    }
   ],
   "source": [
    "plt.matshow(df.corr())\n",
    "plt.show()"
   ]
  },
  {
   "cell_type": "code",
   "execution_count": 3,
   "metadata": {},
   "outputs": [
    {
     "data": {
      "text/html": [
       "<div>\n",
       "<style scoped>\n",
       "    .dataframe tbody tr th:only-of-type {\n",
       "        vertical-align: middle;\n",
       "    }\n",
       "\n",
       "    .dataframe tbody tr th {\n",
       "        vertical-align: top;\n",
       "    }\n",
       "\n",
       "    .dataframe thead th {\n",
       "        text-align: right;\n",
       "    }\n",
       "</style>\n",
       "<table border=\"1\" class=\"dataframe\">\n",
       "  <thead>\n",
       "    <tr style=\"text-align: right;\">\n",
       "      <th></th>\n",
       "      <th>ds</th>\n",
       "      <th>dan</th>\n",
       "      <th>temp</th>\n",
       "      <th>r_hum</th>\n",
       "      <th>co_2</th>\n",
       "      <th>aqi_i</th>\n",
       "      <th>temp_e</th>\n",
       "      <th>r_hum_e</th>\n",
       "      <th>press</th>\n",
       "      <th>wind_s</th>\n",
       "      <th>wind_a</th>\n",
       "      <th>aqi_e</th>\n",
       "      <th>a_hum</th>\n",
       "    </tr>\n",
       "  </thead>\n",
       "  <tbody>\n",
       "    <tr>\n",
       "      <th>0</th>\n",
       "      <td>2020-12-28 01:00:00</td>\n",
       "      <td>1.0</td>\n",
       "      <td>26.262567</td>\n",
       "      <td>40.976413</td>\n",
       "      <td>728.598900</td>\n",
       "      <td>67.941840</td>\n",
       "      <td>2.410</td>\n",
       "      <td>100.000000</td>\n",
       "      <td>998.0</td>\n",
       "      <td>7.200000</td>\n",
       "      <td>130.0</td>\n",
       "      <td>60.666667</td>\n",
       "      <td>0.010100</td>\n",
       "    </tr>\n",
       "    <tr>\n",
       "      <th>1</th>\n",
       "      <td>2020-12-28 02:00:00</td>\n",
       "      <td>1.0</td>\n",
       "      <td>25.984767</td>\n",
       "      <td>40.775907</td>\n",
       "      <td>675.325533</td>\n",
       "      <td>65.810073</td>\n",
       "      <td>2.890</td>\n",
       "      <td>100.000000</td>\n",
       "      <td>998.0</td>\n",
       "      <td>4.600000</td>\n",
       "      <td>120.0</td>\n",
       "      <td>52.000000</td>\n",
       "      <td>0.009896</td>\n",
       "    </tr>\n",
       "    <tr>\n",
       "      <th>2</th>\n",
       "      <td>2020-12-28 03:00:00</td>\n",
       "      <td>1.0</td>\n",
       "      <td>25.831253</td>\n",
       "      <td>40.658130</td>\n",
       "      <td>659.029267</td>\n",
       "      <td>64.538170</td>\n",
       "      <td>2.885</td>\n",
       "      <td>96.500000</td>\n",
       "      <td>999.0</td>\n",
       "      <td>5.400000</td>\n",
       "      <td>155.0</td>\n",
       "      <td>40.333333</td>\n",
       "      <td>0.009783</td>\n",
       "    </tr>\n",
       "    <tr>\n",
       "      <th>3</th>\n",
       "      <td>2020-12-28 04:00:00</td>\n",
       "      <td>1.0</td>\n",
       "      <td>25.716143</td>\n",
       "      <td>40.527917</td>\n",
       "      <td>642.445900</td>\n",
       "      <td>64.224107</td>\n",
       "      <td>4.110</td>\n",
       "      <td>90.666667</td>\n",
       "      <td>999.0</td>\n",
       "      <td>7.700000</td>\n",
       "      <td>150.0</td>\n",
       "      <td>21.000000</td>\n",
       "      <td>0.009689</td>\n",
       "    </tr>\n",
       "    <tr>\n",
       "      <th>4</th>\n",
       "      <td>2020-12-28 05:00:00</td>\n",
       "      <td>1.0</td>\n",
       "      <td>25.571363</td>\n",
       "      <td>40.354333</td>\n",
       "      <td>638.112600</td>\n",
       "      <td>64.128677</td>\n",
       "      <td>5.000</td>\n",
       "      <td>84.000000</td>\n",
       "      <td>999.0</td>\n",
       "      <td>5.633333</td>\n",
       "      <td>100.0</td>\n",
       "      <td>11.666667</td>\n",
       "      <td>0.009570</td>\n",
       "    </tr>\n",
       "  </tbody>\n",
       "</table>\n",
       "</div>"
      ],
      "text/plain": [
       "                   ds  dan       temp      r_hum        co_2      aqi_i  \\\n",
       "0 2020-12-28 01:00:00  1.0  26.262567  40.976413  728.598900  67.941840   \n",
       "1 2020-12-28 02:00:00  1.0  25.984767  40.775907  675.325533  65.810073   \n",
       "2 2020-12-28 03:00:00  1.0  25.831253  40.658130  659.029267  64.538170   \n",
       "3 2020-12-28 04:00:00  1.0  25.716143  40.527917  642.445900  64.224107   \n",
       "4 2020-12-28 05:00:00  1.0  25.571363  40.354333  638.112600  64.128677   \n",
       "\n",
       "   temp_e     r_hum_e  press    wind_s  wind_a      aqi_e     a_hum  \n",
       "0   2.410  100.000000  998.0  7.200000   130.0  60.666667  0.010100  \n",
       "1   2.890  100.000000  998.0  4.600000   120.0  52.000000  0.009896  \n",
       "2   2.885   96.500000  999.0  5.400000   155.0  40.333333  0.009783  \n",
       "3   4.110   90.666667  999.0  7.700000   150.0  21.000000  0.009689  \n",
       "4   5.000   84.000000  999.0  5.633333   100.0  11.666667  0.009570  "
      ]
     },
     "execution_count": 3,
     "metadata": {},
     "output_type": "execute_result"
    }
   ],
   "source": [
    "#a_hum=(6.112*r_hum*math.exp((17.62*temp)/(243.12+temp)))/(461.5*(temp+273.15))\n",
    "#df['a_hum'] = df.apply(lambda row: (6.112*row['r_hum']*math.exp((17.62*row['temp'])/(243.12+row['temp'])))/(461.5*(row['temp']+273.15)))\n",
    "a_hum = []\n",
    "counter = 0\n",
    "for row in range(len(df['r_hum'])):\n",
    "    ah=(6.112*df['r_hum'][row]*math.exp((17.62*df['temp'][row])/(243.12+df['temp'][row])))/(461.5*(df['temp'][row]+273.15))\n",
    "    a_hum.append(ah)\n",
    "df['a_hum']=a_hum\n",
    "df.head()\n",
    "#df=df.set_index('ds')"
   ]
  },
  {
   "cell_type": "code",
   "execution_count": 4,
   "metadata": {},
   "outputs": [],
   "source": [
    "#df = df.drop(['ds', 'dan', 'temp','r_hum','temp_e','r_hum_e'], axis=1)\n",
    "#df['wind_component'] = df['wind_s'] * np.sin(df['wind_a'])\n",
    "#df['wind_component'] = df['wind_component'].clip(lower=0)\n",
    "#df = df.drop(['wind_s', 'wind_a'], axis=1)\n",
    "##df = df[df.co_2 > 1200]\n",
    "#df.shape"
   ]
  },
  {
   "cell_type": "code",
   "execution_count": 5,
   "metadata": {},
   "outputs": [],
   "source": [
    "#df.head()"
   ]
  },
  {
   "cell_type": "code",
   "execution_count": 6,
   "metadata": {},
   "outputs": [],
   "source": [
    "#df = df[df.co_2 > 1200]\n",
    "\n",
    "#x = df.values #returns a numpy array\n",
    "#min_max_scaler = MinMaxScaler()\n",
    "#x_scaled = min_max_scaler.fit_transform(x)\n",
    "#df = pd.DataFrame(x_scaled)\n",
    "#df.head()\n",
    "df_hum=df[['ds','a_hum']].copy()\n",
    "df_hum = df_hum.rename(columns={'a_hum': 'y'})"
   ]
  },
  {
   "cell_type": "code",
   "execution_count": 7,
   "metadata": {},
   "outputs": [
    {
     "name": "stdout",
     "output_type": "stream",
     "text": [
      "(1970, 2)\n",
      "(245, 2)\n",
      "(245, 2)\n"
     ]
    }
   ],
   "source": [
    "train = df_hum.copy()\n",
    "validation = df_hum.copy()\n",
    "test = df_hum.copy()\n",
    "\n",
    "train = train[0:1970]\n",
    "validation = validation[1970:2215]\n",
    "test = test[2215:]\n",
    "print(train.shape)\n",
    "print(validation.shape)\n",
    "print(test.shape)"
   ]
  },
  {
   "cell_type": "code",
   "execution_count": 8,
   "metadata": {},
   "outputs": [],
   "source": [
    "T = 6 #the number of lag variables, previous 6 hours\n",
    "HORIZON = 1 #predicting next hour\n"
   ]
  },
  {
   "cell_type": "code",
   "execution_count": 9,
   "metadata": {},
   "outputs": [
    {
     "data": {
      "text/html": [
       "<div>\n",
       "<style scoped>\n",
       "    .dataframe tbody tr th:only-of-type {\n",
       "        vertical-align: middle;\n",
       "    }\n",
       "\n",
       "    .dataframe tbody tr th {\n",
       "        vertical-align: top;\n",
       "    }\n",
       "\n",
       "    .dataframe thead th {\n",
       "        text-align: right;\n",
       "    }\n",
       "</style>\n",
       "<table border=\"1\" class=\"dataframe\">\n",
       "  <thead>\n",
       "    <tr style=\"text-align: right;\">\n",
       "      <th></th>\n",
       "      <th>y</th>\n",
       "    </tr>\n",
       "    <tr>\n",
       "      <th>ds</th>\n",
       "      <th></th>\n",
       "    </tr>\n",
       "  </thead>\n",
       "  <tbody>\n",
       "    <tr>\n",
       "      <th>2021-04-01 19:00:00</th>\n",
       "      <td>0.012102</td>\n",
       "    </tr>\n",
       "    <tr>\n",
       "      <th>2021-04-01 20:00:00</th>\n",
       "      <td>0.012104</td>\n",
       "    </tr>\n",
       "    <tr>\n",
       "      <th>2021-04-01 21:00:00</th>\n",
       "      <td>0.012018</td>\n",
       "    </tr>\n",
       "    <tr>\n",
       "      <th>2021-04-01 22:00:00</th>\n",
       "      <td>0.011972</td>\n",
       "    </tr>\n",
       "    <tr>\n",
       "      <th>2021-04-01 23:00:00</th>\n",
       "      <td>0.011970</td>\n",
       "    </tr>\n",
       "  </tbody>\n",
       "</table>\n",
       "</div>"
      ],
      "text/plain": [
       "                            y\n",
       "ds                           \n",
       "2021-04-01 19:00:00  0.012102\n",
       "2021-04-01 20:00:00  0.012104\n",
       "2021-04-01 21:00:00  0.012018\n",
       "2021-04-01 22:00:00  0.011972\n",
       "2021-04-01 23:00:00  0.011970"
      ]
     },
     "execution_count": 9,
     "metadata": {},
     "output_type": "execute_result"
    }
   ],
   "source": [
    "#train = train['y']\n",
    "train = train.set_index('ds')\n",
    "#train = train.drop(['floor','cap'], axis=1)\n",
    "train.head()\n",
    "\n",
    "\n",
    "validation = validation.set_index('ds')\n",
    "validation.head()\n",
    "\n",
    "test = test.set_index('ds')\n",
    "test.head()\n",
    "\n"
   ]
  },
  {
   "cell_type": "code",
   "execution_count": 10,
   "metadata": {},
   "outputs": [],
   "source": [
    "scaler = MinMaxScaler()\n",
    "train['y'] = scaler.fit_transform(train)\n",
    "train_shifted = train.copy()\n",
    "train_shifted['y_t+1'] = train_shifted['y'].shift(-1, freq='H')\n",
    "\n",
    "validation['y'] = scaler.fit_transform(validation)\n",
    "validation_shifted = validation.copy()\n",
    "validation_shifted['y_t+1'] = validation_shifted['y'].shift(-1, freq='H')\n",
    "\n",
    "test['y'] = scaler.fit_transform(test)\n",
    "test_shifted = test.copy()\n",
    "test_shifted['y_t+1'] = test_shifted['y'].shift(-1, freq='H')"
   ]
  },
  {
   "cell_type": "code",
   "execution_count": 11,
   "metadata": {},
   "outputs": [
    {
     "data": {
      "text/html": [
       "<div>\n",
       "<style scoped>\n",
       "    .dataframe tbody tr th:only-of-type {\n",
       "        vertical-align: middle;\n",
       "    }\n",
       "\n",
       "    .dataframe tbody tr th {\n",
       "        vertical-align: top;\n",
       "    }\n",
       "\n",
       "    .dataframe thead th {\n",
       "        text-align: right;\n",
       "    }\n",
       "</style>\n",
       "<table border=\"1\" class=\"dataframe\">\n",
       "  <thead>\n",
       "    <tr style=\"text-align: right;\">\n",
       "      <th></th>\n",
       "      <th>y_original</th>\n",
       "      <th>y_t+1</th>\n",
       "      <th>y_t-5</th>\n",
       "      <th>y_t-4</th>\n",
       "      <th>y_t-3</th>\n",
       "      <th>y_t-2</th>\n",
       "      <th>y_t-1</th>\n",
       "      <th>y_t</th>\n",
       "    </tr>\n",
       "    <tr>\n",
       "      <th>ds</th>\n",
       "      <th></th>\n",
       "      <th></th>\n",
       "      <th></th>\n",
       "      <th></th>\n",
       "      <th></th>\n",
       "      <th></th>\n",
       "      <th></th>\n",
       "      <th></th>\n",
       "    </tr>\n",
       "  </thead>\n",
       "  <tbody>\n",
       "    <tr>\n",
       "      <th>2021-04-02 00:00:00</th>\n",
       "      <td>0.769896</td>\n",
       "      <td>0.766150</td>\n",
       "      <td>0.822337</td>\n",
       "      <td>0.822770</td>\n",
       "      <td>0.798130</td>\n",
       "      <td>0.784707</td>\n",
       "      <td>0.784118</td>\n",
       "      <td>0.769896</td>\n",
       "    </tr>\n",
       "    <tr>\n",
       "      <th>2021-04-02 01:00:00</th>\n",
       "      <td>0.766150</td>\n",
       "      <td>0.757585</td>\n",
       "      <td>0.822770</td>\n",
       "      <td>0.798130</td>\n",
       "      <td>0.784707</td>\n",
       "      <td>0.784118</td>\n",
       "      <td>0.769896</td>\n",
       "      <td>0.766150</td>\n",
       "    </tr>\n",
       "    <tr>\n",
       "      <th>2021-04-02 02:00:00</th>\n",
       "      <td>0.757585</td>\n",
       "      <td>0.745918</td>\n",
       "      <td>0.798130</td>\n",
       "      <td>0.784707</td>\n",
       "      <td>0.784118</td>\n",
       "      <td>0.769896</td>\n",
       "      <td>0.766150</td>\n",
       "      <td>0.757585</td>\n",
       "    </tr>\n",
       "    <tr>\n",
       "      <th>2021-04-02 03:00:00</th>\n",
       "      <td>0.745918</td>\n",
       "      <td>0.731961</td>\n",
       "      <td>0.784707</td>\n",
       "      <td>0.784118</td>\n",
       "      <td>0.769896</td>\n",
       "      <td>0.766150</td>\n",
       "      <td>0.757585</td>\n",
       "      <td>0.745918</td>\n",
       "    </tr>\n",
       "    <tr>\n",
       "      <th>2021-04-02 04:00:00</th>\n",
       "      <td>0.731961</td>\n",
       "      <td>0.720432</td>\n",
       "      <td>0.784118</td>\n",
       "      <td>0.769896</td>\n",
       "      <td>0.766150</td>\n",
       "      <td>0.757585</td>\n",
       "      <td>0.745918</td>\n",
       "      <td>0.731961</td>\n",
       "    </tr>\n",
       "  </tbody>\n",
       "</table>\n",
       "</div>"
      ],
      "text/plain": [
       "                     y_original     y_t+1     y_t-5     y_t-4     y_t-3  \\\n",
       "ds                                                                        \n",
       "2021-04-02 00:00:00    0.769896  0.766150  0.822337  0.822770  0.798130   \n",
       "2021-04-02 01:00:00    0.766150  0.757585  0.822770  0.798130  0.784707   \n",
       "2021-04-02 02:00:00    0.757585  0.745918  0.798130  0.784707  0.784118   \n",
       "2021-04-02 03:00:00    0.745918  0.731961  0.784707  0.784118  0.769896   \n",
       "2021-04-02 04:00:00    0.731961  0.720432  0.784118  0.769896  0.766150   \n",
       "\n",
       "                        y_t-2     y_t-1       y_t  \n",
       "ds                                                 \n",
       "2021-04-02 00:00:00  0.784707  0.784118  0.769896  \n",
       "2021-04-02 01:00:00  0.784118  0.769896  0.766150  \n",
       "2021-04-02 02:00:00  0.769896  0.766150  0.757585  \n",
       "2021-04-02 03:00:00  0.766150  0.757585  0.745918  \n",
       "2021-04-02 04:00:00  0.757585  0.745918  0.731961  "
      ]
     },
     "execution_count": 11,
     "metadata": {},
     "output_type": "execute_result"
    }
   ],
   "source": [
    "for t in range (1, T+1):\n",
    "    train_shifted[str(T-t)]=train_shifted['y'].shift(T-t, freq='H')\n",
    "y_col = 'y_t+1'\n",
    "x_cols = ['y_t-5', 'y_t-4', 'y_t-3', 'y_t-2', 'y_t-1', 'y_t']\n",
    "train_shifted.columns = ['y_original'] + [y_col] + x_cols\n",
    "train_shifted = train_shifted.dropna(how='any')\n",
    "train_shifted.head(5)\n",
    "\n",
    "for t in range (1, T+1):\n",
    "    validation_shifted[str(T-t)]=validation_shifted['y'].shift(T-t, freq='H')\n",
    "y_col = 'y_t+1'\n",
    "x_cols = ['y_t-5', 'y_t-4', 'y_t-3', 'y_t-2', 'y_t-1', 'y_t']\n",
    "validation_shifted.columns = ['y_original'] + [y_col] + x_cols\n",
    "validation_shifted = validation_shifted.dropna(how='any')\n",
    "validation_shifted.head(5)\n",
    "\n",
    "for t in range (1, T+1):\n",
    "    test_shifted[str(T-t)]=test_shifted['y'].shift(T-t, freq='H')\n",
    "y_col = 'y_t+1'\n",
    "x_cols = ['y_t-5', 'y_t-4', 'y_t-3', 'y_t-2', 'y_t-1', 'y_t']\n",
    "test_shifted.columns = ['y_original'] + [y_col] + x_cols\n",
    "test_shifted = test_shifted.dropna(how='any')\n",
    "test_shifted.head(5)\n",
    "\n"
   ]
  },
  {
   "cell_type": "code",
   "execution_count": 12,
   "metadata": {},
   "outputs": [],
   "source": [
    "y_train = train_shifted[y_col].to_numpy()\n",
    "x_train = train_shifted[x_cols].to_numpy()\n",
    "\n",
    "y_valid = validation_shifted[y_col].to_numpy()\n",
    "x_valid = validation_shifted[x_cols].to_numpy()\n",
    "\n",
    "y_test = test_shifted[y_col].to_numpy()\n",
    "x_test = test_shifted[x_cols].to_numpy()"
   ]
  },
  {
   "cell_type": "code",
   "execution_count": 13,
   "metadata": {},
   "outputs": [],
   "source": [
    "x_train = x_train.reshape(x_train.shape[0], T, 1)\n",
    "\n",
    "x_valid = x_valid.reshape(x_valid.shape[0], T, 1)\n",
    "x_test = x_test.reshape(x_test.shape[0], T, 1)"
   ]
  },
  {
   "cell_type": "code",
   "execution_count": 14,
   "metadata": {},
   "outputs": [
    {
     "data": {
      "text/plain": [
       "(1862,)"
      ]
     },
     "execution_count": 14,
     "metadata": {},
     "output_type": "execute_result"
    }
   ],
   "source": [
    "y_train.shape"
   ]
  },
  {
   "cell_type": "code",
   "execution_count": 15,
   "metadata": {},
   "outputs": [
    {
     "data": {
      "text/plain": [
       "(1862, 6, 1)"
      ]
     },
     "execution_count": 15,
     "metadata": {},
     "output_type": "execute_result"
    }
   ],
   "source": [
    "x_train.shape"
   ]
  },
  {
   "cell_type": "code",
   "execution_count": 16,
   "metadata": {},
   "outputs": [
    {
     "data": {
      "text/plain": [
       "(239,)"
      ]
     },
     "execution_count": 16,
     "metadata": {},
     "output_type": "execute_result"
    }
   ],
   "source": [
    "y_valid.shape\n"
   ]
  },
  {
   "cell_type": "code",
   "execution_count": 17,
   "metadata": {},
   "outputs": [
    {
     "data": {
      "text/plain": [
       "(239, 6, 1)"
      ]
     },
     "execution_count": 17,
     "metadata": {},
     "output_type": "execute_result"
    }
   ],
   "source": [
    "x_valid.shape"
   ]
  },
  {
   "cell_type": "code",
   "execution_count": 18,
   "metadata": {},
   "outputs": [
    {
     "data": {
      "text/plain": [
       "(239,)"
      ]
     },
     "execution_count": 18,
     "metadata": {},
     "output_type": "execute_result"
    }
   ],
   "source": [
    "y_test.shape"
   ]
  },
  {
   "cell_type": "code",
   "execution_count": 19,
   "metadata": {},
   "outputs": [
    {
     "data": {
      "text/plain": [
       "(239, 6, 1)"
      ]
     },
     "execution_count": 19,
     "metadata": {},
     "output_type": "execute_result"
    }
   ],
   "source": [
    "x_test.shape"
   ]
  },
  {
   "cell_type": "code",
   "execution_count": 20,
   "metadata": {},
   "outputs": [],
   "source": [
    "#preprocessing DONE!!\n",
    "#univariate models page 167"
   ]
  },
  {
   "cell_type": "code",
   "execution_count": 21,
   "metadata": {},
   "outputs": [],
   "source": [
    "from keras.models import Model, Sequential\n",
    "from keras.layers import GRU, Dense\n",
    "from keras.callbacks import EarlyStopping"
   ]
  },
  {
   "cell_type": "code",
   "execution_count": 22,
   "metadata": {},
   "outputs": [],
   "source": [
    "LATENT_DIM = 5\n",
    "BATCH_SIZE = 32\n",
    "EPOCHS = 10"
   ]
  },
  {
   "cell_type": "code",
   "execution_count": 23,
   "metadata": {},
   "outputs": [],
   "source": [
    "model = Sequential()\n",
    "model.add(GRU(LATENT_DIM, input_shape=(T, 1)))\n",
    "model.add(Dense(HORIZON))"
   ]
  },
  {
   "cell_type": "code",
   "execution_count": 24,
   "metadata": {},
   "outputs": [
    {
     "name": "stdout",
     "output_type": "stream",
     "text": [
      "Model: \"sequential\"\n",
      "_________________________________________________________________\n",
      "Layer (type)                 Output Shape              Param #   \n",
      "=================================================================\n",
      "gru (GRU)                    (None, 5)                 120       \n",
      "_________________________________________________________________\n",
      "dense (Dense)                (None, 1)                 6         \n",
      "=================================================================\n",
      "Total params: 126\n",
      "Trainable params: 126\n",
      "Non-trainable params: 0\n",
      "_________________________________________________________________\n"
     ]
    }
   ],
   "source": [
    "model.compile(optimizer='RMSprop', loss='mse')\n",
    "model.summary()"
   ]
  },
  {
   "cell_type": "code",
   "execution_count": 25,
   "metadata": {},
   "outputs": [],
   "source": [
    "GRU_earlystop = EarlyStopping(monitor='val_loss', min_delta=0, patience=5)"
   ]
  },
  {
   "cell_type": "code",
   "execution_count": 26,
   "metadata": {},
   "outputs": [
    {
     "name": "stdout",
     "output_type": "stream",
     "text": [
      "Epoch 1/10\n",
      "59/59 [==============================] - 1s 20ms/step - loss: 0.1052 - val_loss: 0.0248\n",
      "Epoch 2/10\n",
      "59/59 [==============================] - 0s 7ms/step - loss: 0.0164 - val_loss: 0.0182\n",
      "Epoch 3/10\n",
      "59/59 [==============================] - 0s 6ms/step - loss: 0.0122 - val_loss: 0.0152\n",
      "Epoch 4/10\n",
      "59/59 [==============================] - 0s 6ms/step - loss: 0.0098 - val_loss: 0.0127\n",
      "Epoch 5/10\n",
      "59/59 [==============================] - 0s 6ms/step - loss: 0.0083 - val_loss: 0.0109\n",
      "Epoch 6/10\n",
      "59/59 [==============================] - 0s 6ms/step - loss: 0.0072 - val_loss: 0.0103\n",
      "Epoch 7/10\n",
      "59/59 [==============================] - 0s 6ms/step - loss: 0.0064 - val_loss: 0.0088\n",
      "Epoch 8/10\n",
      "59/59 [==============================] - 0s 6ms/step - loss: 0.0058 - val_loss: 0.0080\n",
      "Epoch 9/10\n",
      "59/59 [==============================] - 0s 7ms/step - loss: 0.0055 - val_loss: 0.0079\n",
      "Epoch 10/10\n",
      "59/59 [==============================] - 0s 7ms/step - loss: 0.0051 - val_loss: 0.0077\n"
     ]
    }
   ],
   "source": [
    "model_history = model.fit(x_train, y_train, batch_size=BATCH_SIZE, epochs=EPOCHS, validation_data=(x_valid, y_valid), callbacks=[GRU_earlystop], verbose=1)"
   ]
  },
  {
   "cell_type": "code",
   "execution_count": 27,
   "metadata": {},
   "outputs": [],
   "source": [
    "ts_predictions = model.predict(x_test)"
   ]
  },
  {
   "cell_type": "code",
   "execution_count": 28,
   "metadata": {},
   "outputs": [
    {
     "data": {
      "text/plain": [
       "array([[0.7246717 ],\n",
       "       [0.72052217],\n",
       "       [0.71433043],\n",
       "       [0.70476043],\n",
       "       [0.69269913],\n",
       "       [0.68238056],\n",
       "       [0.66954815],\n",
       "       [0.5895749 ],\n",
       "       [0.7371602 ],\n",
       "       [0.83875686],\n",
       "       [0.85259604],\n",
       "       [0.7862489 ],\n",
       "       [0.7436497 ],\n",
       "       [0.7034641 ],\n",
       "       [0.7061153 ],\n",
       "       [0.6992947 ],\n",
       "       [0.67781895],\n",
       "       [0.65681213],\n",
       "       [0.76864815],\n",
       "       [0.7572262 ],\n",
       "       [0.7490695 ],\n",
       "       [0.75840205],\n",
       "       [0.7747493 ],\n",
       "       [0.7716591 ],\n",
       "       [0.7566515 ],\n",
       "       [0.7392348 ],\n",
       "       [0.72374904],\n",
       "       [0.70900404],\n",
       "       [0.6942741 ],\n",
       "       [0.682619  ],\n",
       "       [0.66892356],\n",
       "       [0.6722248 ],\n",
       "       [0.719054  ],\n",
       "       [0.7854425 ],\n",
       "       [0.77722657],\n",
       "       [0.73813546],\n",
       "       [0.7433268 ],\n",
       "       [0.7294193 ],\n",
       "       [0.7205853 ],\n",
       "       [0.734016  ],\n",
       "       [0.6972432 ],\n",
       "       [0.7876007 ],\n",
       "       [0.9174633 ],\n",
       "       [0.88213056],\n",
       "       [0.8493663 ],\n",
       "       [0.8354566 ],\n",
       "       [0.8292682 ],\n",
       "       [0.7798635 ],\n",
       "       [0.73731476],\n",
       "       [0.7109746 ],\n",
       "       [0.68999064],\n",
       "       [0.6640457 ],\n",
       "       [0.670019  ],\n",
       "       [0.7032675 ],\n",
       "       [0.71650106],\n",
       "       [0.7337469 ],\n",
       "       [0.71889704],\n",
       "       [0.77825475],\n",
       "       [0.8966422 ],\n",
       "       [0.84275997],\n",
       "       [0.7305187 ],\n",
       "       [0.6024059 ],\n",
       "       [0.52770126],\n",
       "       [0.5181714 ],\n",
       "       [0.5306036 ],\n",
       "       [0.59177864],\n",
       "       [0.6435277 ],\n",
       "       [0.7697453 ],\n",
       "       [0.79436994],\n",
       "       [0.7813632 ],\n",
       "       [0.78592336],\n",
       "       [0.69798285],\n",
       "       [0.61973816],\n",
       "       [0.5757698 ],\n",
       "       [0.5406213 ],\n",
       "       [0.50043446],\n",
       "       [0.50287086],\n",
       "       [0.57329786],\n",
       "       [0.64995134],\n",
       "       [0.7561747 ],\n",
       "       [0.82956344],\n",
       "       [0.8184829 ],\n",
       "       [0.7459215 ],\n",
       "       [0.68734735],\n",
       "       [0.61899984],\n",
       "       [0.5932311 ],\n",
       "       [0.6816418 ],\n",
       "       [0.68310976],\n",
       "       [0.5994043 ],\n",
       "       [0.54961705],\n",
       "       [0.4895581 ],\n",
       "       [0.4789996 ],\n",
       "       [0.50993943],\n",
       "       [0.55045694],\n",
       "       [0.5670089 ],\n",
       "       [0.5206755 ],\n",
       "       [0.4845571 ],\n",
       "       [0.46332163],\n",
       "       [0.44781402],\n",
       "       [0.4280136 ],\n",
       "       [0.45761696],\n",
       "       [0.51780695],\n",
       "       [0.58083695],\n",
       "       [0.7379201 ],\n",
       "       [0.8154147 ],\n",
       "       [0.7534277 ],\n",
       "       [0.6253283 ],\n",
       "       [0.50002444],\n",
       "       [0.44291323],\n",
       "       [0.45090342],\n",
       "       [0.5109749 ],\n",
       "       [0.56370294],\n",
       "       [0.4893235 ],\n",
       "       [0.57765937],\n",
       "       [0.6502174 ],\n",
       "       [0.7136607 ],\n",
       "       [0.74223375],\n",
       "       [0.7944113 ],\n",
       "       [0.8023977 ],\n",
       "       [0.6913243 ],\n",
       "       [0.5626985 ],\n",
       "       [0.48651072],\n",
       "       [0.4394821 ],\n",
       "       [0.40151235],\n",
       "       [0.43759954],\n",
       "       [0.5064347 ],\n",
       "       [0.5764229 ],\n",
       "       [0.59227437],\n",
       "       [0.66077125],\n",
       "       [0.6469301 ],\n",
       "       [0.6196956 ],\n",
       "       [0.57701355],\n",
       "       [0.5641012 ],\n",
       "       [0.5741576 ],\n",
       "       [0.58582854],\n",
       "       [0.5873229 ],\n",
       "       [0.53351194],\n",
       "       [0.5588754 ],\n",
       "       [0.65813416],\n",
       "       [0.69551224],\n",
       "       [0.74416876],\n",
       "       [0.64931756],\n",
       "       [0.56786394],\n",
       "       [0.49636596],\n",
       "       [0.42591685],\n",
       "       [0.37314525],\n",
       "       [0.33009544],\n",
       "       [0.2887965 ],\n",
       "       [0.29986325],\n",
       "       [0.31703413],\n",
       "       [0.34427655],\n",
       "       [0.43330163],\n",
       "       [0.6370032 ],\n",
       "       [0.74903774],\n",
       "       [0.64648396],\n",
       "       [0.50345206],\n",
       "       [0.45779765],\n",
       "       [0.4497199 ],\n",
       "       [0.39125907],\n",
       "       [0.4657029 ],\n",
       "       [0.37664488],\n",
       "       [0.26638323],\n",
       "       [0.1895409 ],\n",
       "       [0.13713351],\n",
       "       [0.19800434],\n",
       "       [0.33769822],\n",
       "       [0.33136055],\n",
       "       [0.2346955 ],\n",
       "       [0.17409584],\n",
       "       [0.14624545],\n",
       "       [0.1302994 ],\n",
       "       [0.11281818],\n",
       "       [0.1701915 ],\n",
       "       [0.2557105 ],\n",
       "       [0.3658252 ],\n",
       "       [0.52082586],\n",
       "       [0.61947703],\n",
       "       [0.5966009 ],\n",
       "       [0.49832475],\n",
       "       [0.43794808],\n",
       "       [0.38526508],\n",
       "       [0.42147464],\n",
       "       [0.39382577],\n",
       "       [0.334839  ],\n",
       "       [0.20529275],\n",
       "       [0.14913678],\n",
       "       [0.13387345],\n",
       "       [0.20789428],\n",
       "       [0.3166614 ],\n",
       "       [0.3667391 ],\n",
       "       [0.37944943],\n",
       "       [0.3001585 ],\n",
       "       [0.23051766],\n",
       "       [0.19756547],\n",
       "       [0.17861521],\n",
       "       [0.1553074 ],\n",
       "       [0.18494923],\n",
       "       [0.2588231 ],\n",
       "       [0.35705885],\n",
       "       [0.5622113 ],\n",
       "       [0.6053209 ],\n",
       "       [0.5124232 ],\n",
       "       [0.43632394],\n",
       "       [0.25767064],\n",
       "       [0.16406846],\n",
       "       [0.12904772],\n",
       "       [0.13218714],\n",
       "       [0.17195356],\n",
       "       [0.3170835 ],\n",
       "       [0.23708977],\n",
       "       [0.28579867],\n",
       "       [0.31268862],\n",
       "       [0.33276904],\n",
       "       [0.36075506],\n",
       "       [0.34405842],\n",
       "       [0.29925823],\n",
       "       [0.26991576],\n",
       "       [0.2510526 ],\n",
       "       [0.22890176],\n",
       "       [0.20420612],\n",
       "       [0.18128604],\n",
       "       [0.15305233],\n",
       "       [0.12366954],\n",
       "       [0.10296034],\n",
       "       [0.08302277],\n",
       "       [0.15750907],\n",
       "       [0.43887085],\n",
       "       [0.48601916],\n",
       "       [0.51334864],\n",
       "       [0.4773265 ],\n",
       "       [0.3376885 ],\n",
       "       [0.25917858],\n",
       "       [0.2512405 ],\n",
       "       [0.37289402],\n",
       "       [0.5870713 ],\n",
       "       [0.9128135 ],\n",
       "       [0.8932904 ],\n",
       "       [0.85483986],\n",
       "       [0.80495226]], dtype=float32)"
      ]
     },
     "execution_count": 28,
     "metadata": {},
     "output_type": "execute_result"
    }
   ],
   "source": [
    "ts_predictions"
   ]
  },
  {
   "cell_type": "code",
   "execution_count": 29,
   "metadata": {},
   "outputs": [
    {
     "data": {
      "text/html": [
       "<div>\n",
       "<style scoped>\n",
       "    .dataframe tbody tr th:only-of-type {\n",
       "        vertical-align: middle;\n",
       "    }\n",
       "\n",
       "    .dataframe tbody tr th {\n",
       "        vertical-align: top;\n",
       "    }\n",
       "\n",
       "    .dataframe thead th {\n",
       "        text-align: right;\n",
       "    }\n",
       "</style>\n",
       "<table border=\"1\" class=\"dataframe\">\n",
       "  <thead>\n",
       "    <tr style=\"text-align: right;\">\n",
       "      <th></th>\n",
       "      <th>timestamp</th>\n",
       "      <th>h</th>\n",
       "      <th>prediction</th>\n",
       "      <th>actual</th>\n",
       "    </tr>\n",
       "  </thead>\n",
       "  <tbody>\n",
       "    <tr>\n",
       "      <th>0</th>\n",
       "      <td>2021-04-02 00:00:00</td>\n",
       "      <td>t+1</td>\n",
       "      <td>0.011764</td>\n",
       "      <td>0.011908</td>\n",
       "    </tr>\n",
       "    <tr>\n",
       "      <th>1</th>\n",
       "      <td>2021-04-02 01:00:00</td>\n",
       "      <td>t+1</td>\n",
       "      <td>0.011750</td>\n",
       "      <td>0.011878</td>\n",
       "    </tr>\n",
       "    <tr>\n",
       "      <th>2</th>\n",
       "      <td>2021-04-02 02:00:00</td>\n",
       "      <td>t+1</td>\n",
       "      <td>0.011729</td>\n",
       "      <td>0.011838</td>\n",
       "    </tr>\n",
       "    <tr>\n",
       "      <th>3</th>\n",
       "      <td>2021-04-02 03:00:00</td>\n",
       "      <td>t+1</td>\n",
       "      <td>0.011696</td>\n",
       "      <td>0.011790</td>\n",
       "    </tr>\n",
       "    <tr>\n",
       "      <th>4</th>\n",
       "      <td>2021-04-02 04:00:00</td>\n",
       "      <td>t+1</td>\n",
       "      <td>0.011654</td>\n",
       "      <td>0.011750</td>\n",
       "    </tr>\n",
       "  </tbody>\n",
       "</table>\n",
       "</div>"
      ],
      "text/plain": [
       "            timestamp    h  prediction    actual\n",
       "0 2021-04-02 00:00:00  t+1    0.011764  0.011908\n",
       "1 2021-04-02 01:00:00  t+1    0.011750  0.011878\n",
       "2 2021-04-02 02:00:00  t+1    0.011729  0.011838\n",
       "3 2021-04-02 03:00:00  t+1    0.011696  0.011790\n",
       "4 2021-04-02 04:00:00  t+1    0.011654  0.011750"
      ]
     },
     "execution_count": 29,
     "metadata": {},
     "output_type": "execute_result"
    }
   ],
   "source": [
    "ev_ts_data = pd.DataFrame(ts_predictions, columns=['t+'+str(t) for t in range(1, HORIZON+1)])\n",
    "ev_ts_data['timestamp']=test_shifted.index\n",
    "ev_ts_data=pd.melt(ev_ts_data, id_vars='timestamp', value_name='prediction', var_name='h')\n",
    "ev_ts_data['actual']=np.transpose(y_test).ravel()\n",
    "ev_ts_data[['prediction', 'actual']]=scaler.inverse_transform(ev_ts_data[['prediction','actual']])\n",
    "ev_ts_data.head()"
   ]
  },
  {
   "cell_type": "code",
   "execution_count": 34,
   "metadata": {},
   "outputs": [
    {
     "data": {
      "text/plain": [
       "0.02131319649446812"
      ]
     },
     "execution_count": 34,
     "metadata": {},
     "output_type": "execute_result"
    }
   ],
   "source": [
    "def mape(ts_predictions, actuals):\n",
    "    \"\"\"Mean absolute percentage error\"\"\"\n",
    "    return (((ts_predictions - actuals).abs() / actuals).mean())\n",
    "\n",
    "mape(ev_ts_data['prediction'], ev_ts_data['actual'])"
   ]
  },
  {
   "cell_type": "code",
   "execution_count": 41,
   "metadata": {},
   "outputs": [
    {
     "data": {
      "image/png": "[encoded data removed]",
      "text/plain": [
       "<Figure size 1152x576 with 1 Axes>"
      ]
     },
     "metadata": {
      "needs_background": "light"
     },
     "output_type": "display_data"
    }
   ],
   "source": [
    "ev_ts_data[0:100].plot(x='timestamp',y=['prediction','actual'], style=['k--','c'], figsize=(16,8))\n",
    "plt.xlabel('timestamp', fontsize=8)\n",
    "plt.ylabel('a_hum', fontsize=8)\n",
    "plt.show()"
   ]
  },
  {
   "cell_type": "code",
   "execution_count": 42,
   "metadata": {},
   "outputs": [
    {
     "data": {
      "image/png": "[encoded data removed]",
      "text/plain": [
       "<Figure size 1152x576 with 1 Axes>"
      ]
     },
     "metadata": {
      "needs_background": "light"
     },
     "output_type": "display_data"
    }
   ],
   "source": [
    "plt.rcParams['figure.figsize']=[16,8]\n",
    "plt.rcParams.update({'font.size':10})\n",
    "plt.plot(ev_ts_data['timestamp'][0:100],ev_ts_data['actual'][0:100],color='c',LineWidth=1.5,label='Apsolute humidity (original)')\n",
    "plt.plot(ev_ts_data['timestamp'][0:100],ev_ts_data['prediction'][0:100],color='k',linestyle ='dashed',LineWidth=1.5,label='Apsolute humidity (predicted)')\n",
    "plt.xticks(rotation=45)\n",
    "plt.legend()\n",
    "plt.savefig('page_GRU.pdf',\n",
    "            dpi=600,\n",
    "            orientation='landscape')"
   ]
  },
  {
   "cell_type": "code",
   "execution_count": null,
   "metadata": {},
   "outputs": [],
   "source": []
  }
 ],
 "metadata": {
  "kernelspec": {
   "display_name": "Python 3",
   "language": "python",
   "name": "python3"
  },
  "language_info": {
   "codemirror_mode": {
    "name": "ipython",
    "version": 3
   },
   "file_extension": ".py",
   "mimetype": "text/x-python",
   "name": "python",
   "nbconvert_exporter": "python",
   "pygments_lexer": "ipython3",
   "version": "3.8.8"
  }
 },
 "nbformat": 4,
 "nbformat_minor": 2
}
