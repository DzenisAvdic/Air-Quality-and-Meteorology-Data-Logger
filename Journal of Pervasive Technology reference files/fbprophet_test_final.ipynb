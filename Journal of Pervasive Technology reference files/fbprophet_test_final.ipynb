{
 "cells": [
  {
   "cell_type": "code",
   "execution_count": 1,
   "metadata": {},
   "outputs": [],
   "source": [
    "import pandas as pd\n",
    "import matplotlib.pyplot as plt\n",
    "import numpy as np\n",
    "import os\n",
    "from windrose import WindroseAxes\n",
    "from windrose import plot_windrose\n",
    "import matplotlib.cm as cm\n",
    "from PIL import Image\n",
    "import time\n",
    "from urllib.request import urlopen\n",
    "from bs4 import BeautifulSoup\n",
    "import re\n",
    "from fbprophet import Prophet\n",
    "import math\n",
    "\n",
    "\n",
    "\n",
    "df = pd.read_csv('preprocessed_data_15_weeks.csv')\n",
    "df.ds= pd.to_datetime(df.ds)"
   ]
  },
  {
   "cell_type": "code",
   "execution_count": 2,
   "metadata": {},
   "outputs": [
    {
     "data": {
      "text/html": [
       "<div>\n",
       "<style scoped>\n",
       "    .dataframe tbody tr th:only-of-type {\n",
       "        vertical-align: middle;\n",
       "    }\n",
       "\n",
       "    .dataframe tbody tr th {\n",
       "        vertical-align: top;\n",
       "    }\n",
       "\n",
       "    .dataframe thead th {\n",
       "        text-align: right;\n",
       "    }\n",
       "</style>\n",
       "<table border=\"1\" class=\"dataframe\">\n",
       "  <thead>\n",
       "    <tr style=\"text-align: right;\">\n",
       "      <th></th>\n",
       "      <th>ds</th>\n",
       "      <th>dan</th>\n",
       "      <th>temp</th>\n",
       "      <th>r_hum</th>\n",
       "      <th>co_2</th>\n",
       "      <th>aqi_i</th>\n",
       "      <th>temp_e</th>\n",
       "      <th>r_hum_e</th>\n",
       "      <th>press</th>\n",
       "      <th>wind_s</th>\n",
       "      <th>wind_a</th>\n",
       "      <th>aqi_e</th>\n",
       "    </tr>\n",
       "  </thead>\n",
       "  <tbody>\n",
       "    <tr>\n",
       "      <th>0</th>\n",
       "      <td>2020-12-28 01:00:00</td>\n",
       "      <td>1.0</td>\n",
       "      <td>26.262567</td>\n",
       "      <td>40.976413</td>\n",
       "      <td>728.598900</td>\n",
       "      <td>67.941840</td>\n",
       "      <td>2.410</td>\n",
       "      <td>100.000000</td>\n",
       "      <td>998.0</td>\n",
       "      <td>7.200000</td>\n",
       "      <td>130.0</td>\n",
       "      <td>60.666667</td>\n",
       "    </tr>\n",
       "    <tr>\n",
       "      <th>1</th>\n",
       "      <td>2020-12-28 02:00:00</td>\n",
       "      <td>1.0</td>\n",
       "      <td>25.984767</td>\n",
       "      <td>40.775907</td>\n",
       "      <td>675.325533</td>\n",
       "      <td>65.810073</td>\n",
       "      <td>2.890</td>\n",
       "      <td>100.000000</td>\n",
       "      <td>998.0</td>\n",
       "      <td>4.600000</td>\n",
       "      <td>120.0</td>\n",
       "      <td>52.000000</td>\n",
       "    </tr>\n",
       "    <tr>\n",
       "      <th>2</th>\n",
       "      <td>2020-12-28 03:00:00</td>\n",
       "      <td>1.0</td>\n",
       "      <td>25.831253</td>\n",
       "      <td>40.658130</td>\n",
       "      <td>659.029267</td>\n",
       "      <td>64.538170</td>\n",
       "      <td>2.885</td>\n",
       "      <td>96.500000</td>\n",
       "      <td>999.0</td>\n",
       "      <td>5.400000</td>\n",
       "      <td>155.0</td>\n",
       "      <td>40.333333</td>\n",
       "    </tr>\n",
       "    <tr>\n",
       "      <th>3</th>\n",
       "      <td>2020-12-28 04:00:00</td>\n",
       "      <td>1.0</td>\n",
       "      <td>25.716143</td>\n",
       "      <td>40.527917</td>\n",
       "      <td>642.445900</td>\n",
       "      <td>64.224107</td>\n",
       "      <td>4.110</td>\n",
       "      <td>90.666667</td>\n",
       "      <td>999.0</td>\n",
       "      <td>7.700000</td>\n",
       "      <td>150.0</td>\n",
       "      <td>21.000000</td>\n",
       "    </tr>\n",
       "    <tr>\n",
       "      <th>4</th>\n",
       "      <td>2020-12-28 05:00:00</td>\n",
       "      <td>1.0</td>\n",
       "      <td>25.571363</td>\n",
       "      <td>40.354333</td>\n",
       "      <td>638.112600</td>\n",
       "      <td>64.128677</td>\n",
       "      <td>5.000</td>\n",
       "      <td>84.000000</td>\n",
       "      <td>999.0</td>\n",
       "      <td>5.633333</td>\n",
       "      <td>100.0</td>\n",
       "      <td>11.666667</td>\n",
       "    </tr>\n",
       "  </tbody>\n",
       "</table>\n",
       "</div>"
      ],
      "text/plain": [
       "                   ds  dan       temp      r_hum        co_2      aqi_i  \\\n",
       "0 2020-12-28 01:00:00  1.0  26.262567  40.976413  728.598900  67.941840   \n",
       "1 2020-12-28 02:00:00  1.0  25.984767  40.775907  675.325533  65.810073   \n",
       "2 2020-12-28 03:00:00  1.0  25.831253  40.658130  659.029267  64.538170   \n",
       "3 2020-12-28 04:00:00  1.0  25.716143  40.527917  642.445900  64.224107   \n",
       "4 2020-12-28 05:00:00  1.0  25.571363  40.354333  638.112600  64.128677   \n",
       "\n",
       "   temp_e     r_hum_e  press    wind_s  wind_a      aqi_e  \n",
       "0   2.410  100.000000  998.0  7.200000   130.0  60.666667  \n",
       "1   2.890  100.000000  998.0  4.600000   120.0  52.000000  \n",
       "2   2.885   96.500000  999.0  5.400000   155.0  40.333333  \n",
       "3   4.110   90.666667  999.0  7.700000   150.0  21.000000  \n",
       "4   5.000   84.000000  999.0  5.633333   100.0  11.666667  "
      ]
     },
     "execution_count": 2,
     "metadata": {},
     "output_type": "execute_result"
    }
   ],
   "source": [
    "df.head()"
   ]
  },
  {
   "cell_type": "code",
   "execution_count": 3,
   "metadata": {},
   "outputs": [
    {
     "data": {
      "text/html": [
       "<div>\n",
       "<style scoped>\n",
       "    .dataframe tbody tr th:only-of-type {\n",
       "        vertical-align: middle;\n",
       "    }\n",
       "\n",
       "    .dataframe tbody tr th {\n",
       "        vertical-align: top;\n",
       "    }\n",
       "\n",
       "    .dataframe thead th {\n",
       "        text-align: right;\n",
       "    }\n",
       "</style>\n",
       "<table border=\"1\" class=\"dataframe\">\n",
       "  <thead>\n",
       "    <tr style=\"text-align: right;\">\n",
       "      <th></th>\n",
       "      <th>ds</th>\n",
       "      <th>dan</th>\n",
       "      <th>temp</th>\n",
       "      <th>r_hum</th>\n",
       "      <th>co_2</th>\n",
       "      <th>aqi_i</th>\n",
       "      <th>temp_e</th>\n",
       "      <th>r_hum_e</th>\n",
       "      <th>press</th>\n",
       "      <th>wind_s</th>\n",
       "      <th>wind_a</th>\n",
       "      <th>aqi_e</th>\n",
       "      <th>a_hum</th>\n",
       "    </tr>\n",
       "  </thead>\n",
       "  <tbody>\n",
       "    <tr>\n",
       "      <th>0</th>\n",
       "      <td>2020-12-28 01:00:00</td>\n",
       "      <td>1.0</td>\n",
       "      <td>26.262567</td>\n",
       "      <td>40.976413</td>\n",
       "      <td>728.598900</td>\n",
       "      <td>67.941840</td>\n",
       "      <td>2.410</td>\n",
       "      <td>100.000000</td>\n",
       "      <td>998.0</td>\n",
       "      <td>7.200000</td>\n",
       "      <td>130.0</td>\n",
       "      <td>60.666667</td>\n",
       "      <td>0.010100</td>\n",
       "    </tr>\n",
       "    <tr>\n",
       "      <th>1</th>\n",
       "      <td>2020-12-28 02:00:00</td>\n",
       "      <td>1.0</td>\n",
       "      <td>25.984767</td>\n",
       "      <td>40.775907</td>\n",
       "      <td>675.325533</td>\n",
       "      <td>65.810073</td>\n",
       "      <td>2.890</td>\n",
       "      <td>100.000000</td>\n",
       "      <td>998.0</td>\n",
       "      <td>4.600000</td>\n",
       "      <td>120.0</td>\n",
       "      <td>52.000000</td>\n",
       "      <td>0.009896</td>\n",
       "    </tr>\n",
       "    <tr>\n",
       "      <th>2</th>\n",
       "      <td>2020-12-28 03:00:00</td>\n",
       "      <td>1.0</td>\n",
       "      <td>25.831253</td>\n",
       "      <td>40.658130</td>\n",
       "      <td>659.029267</td>\n",
       "      <td>64.538170</td>\n",
       "      <td>2.885</td>\n",
       "      <td>96.500000</td>\n",
       "      <td>999.0</td>\n",
       "      <td>5.400000</td>\n",
       "      <td>155.0</td>\n",
       "      <td>40.333333</td>\n",
       "      <td>0.009783</td>\n",
       "    </tr>\n",
       "    <tr>\n",
       "      <th>3</th>\n",
       "      <td>2020-12-28 04:00:00</td>\n",
       "      <td>1.0</td>\n",
       "      <td>25.716143</td>\n",
       "      <td>40.527917</td>\n",
       "      <td>642.445900</td>\n",
       "      <td>64.224107</td>\n",
       "      <td>4.110</td>\n",
       "      <td>90.666667</td>\n",
       "      <td>999.0</td>\n",
       "      <td>7.700000</td>\n",
       "      <td>150.0</td>\n",
       "      <td>21.000000</td>\n",
       "      <td>0.009689</td>\n",
       "    </tr>\n",
       "    <tr>\n",
       "      <th>4</th>\n",
       "      <td>2020-12-28 05:00:00</td>\n",
       "      <td>1.0</td>\n",
       "      <td>25.571363</td>\n",
       "      <td>40.354333</td>\n",
       "      <td>638.112600</td>\n",
       "      <td>64.128677</td>\n",
       "      <td>5.000</td>\n",
       "      <td>84.000000</td>\n",
       "      <td>999.0</td>\n",
       "      <td>5.633333</td>\n",
       "      <td>100.0</td>\n",
       "      <td>11.666667</td>\n",
       "      <td>0.009570</td>\n",
       "    </tr>\n",
       "  </tbody>\n",
       "</table>\n",
       "</div>"
      ],
      "text/plain": [
       "                   ds  dan       temp      r_hum        co_2      aqi_i  \\\n",
       "0 2020-12-28 01:00:00  1.0  26.262567  40.976413  728.598900  67.941840   \n",
       "1 2020-12-28 02:00:00  1.0  25.984767  40.775907  675.325533  65.810073   \n",
       "2 2020-12-28 03:00:00  1.0  25.831253  40.658130  659.029267  64.538170   \n",
       "3 2020-12-28 04:00:00  1.0  25.716143  40.527917  642.445900  64.224107   \n",
       "4 2020-12-28 05:00:00  1.0  25.571363  40.354333  638.112600  64.128677   \n",
       "\n",
       "   temp_e     r_hum_e  press    wind_s  wind_a      aqi_e     a_hum  \n",
       "0   2.410  100.000000  998.0  7.200000   130.0  60.666667  0.010100  \n",
       "1   2.890  100.000000  998.0  4.600000   120.0  52.000000  0.009896  \n",
       "2   2.885   96.500000  999.0  5.400000   155.0  40.333333  0.009783  \n",
       "3   4.110   90.666667  999.0  7.700000   150.0  21.000000  0.009689  \n",
       "4   5.000   84.000000  999.0  5.633333   100.0  11.666667  0.009570  "
      ]
     },
     "execution_count": 3,
     "metadata": {},
     "output_type": "execute_result"
    }
   ],
   "source": [
    "#a_hum=(6.112*r_hum*math.exp((17.62*temp)/(243.12+temp)))/(461.5*(temp+273.15))\n",
    "#df['a_hum'] = df.apply(lambda row: (6.112*row['r_hum']*math.exp((17.62*row['temp'])/(243.12+row['temp'])))/(461.5*(row['temp']+273.15)))\n",
    "a_hum = []\n",
    "counter = 0\n",
    "for row in range(len(df['r_hum'])):\n",
    "    ah=(6.112*df['r_hum'][row]*math.exp((17.62*df['temp'][row])/(243.12+df['temp'][row])))/(461.5*(df['temp'][row]+273.15))\n",
    "    a_hum.append(ah)\n",
    "df['a_hum']=a_hum\n",
    "df.head()\n",
    "#df=df.set_index('ds')"
   ]
  },
  {
   "cell_type": "code",
   "execution_count": 4,
   "metadata": {},
   "outputs": [],
   "source": [
    "df_hum=df[['ds','a_hum']].copy()"
   ]
  },
  {
   "cell_type": "code",
   "execution_count": 5,
   "metadata": {},
   "outputs": [
    {
     "name": "stdout",
     "output_type": "stream",
     "text": [
      "0.03 0.002\n"
     ]
    }
   ],
   "source": [
    "cap=np.round((6.112*100*math.exp((17.62*30)/(243.12+30)))/(461.5*(30+273.15)),3)\n",
    "floor=np.round((6.112*20*math.exp((17.62*12)/(243.12+12)))/(461.5*(12+273.15)),3)\n",
    "print(cap, floor)"
   ]
  },
  {
   "cell_type": "code",
   "execution_count": 6,
   "metadata": {},
   "outputs": [],
   "source": [
    "df_hum['cap']=cap\n",
    "df_hum['floor']=floor"
   ]
  },
  {
   "cell_type": "code",
   "execution_count": 7,
   "metadata": {},
   "outputs": [
    {
     "data": {
      "text/html": [
       "<div>\n",
       "<style scoped>\n",
       "    .dataframe tbody tr th:only-of-type {\n",
       "        vertical-align: middle;\n",
       "    }\n",
       "\n",
       "    .dataframe tbody tr th {\n",
       "        vertical-align: top;\n",
       "    }\n",
       "\n",
       "    .dataframe thead th {\n",
       "        text-align: right;\n",
       "    }\n",
       "</style>\n",
       "<table border=\"1\" class=\"dataframe\">\n",
       "  <thead>\n",
       "    <tr style=\"text-align: right;\">\n",
       "      <th></th>\n",
       "      <th>ds</th>\n",
       "      <th>a_hum</th>\n",
       "      <th>cap</th>\n",
       "      <th>floor</th>\n",
       "    </tr>\n",
       "  </thead>\n",
       "  <tbody>\n",
       "    <tr>\n",
       "      <th>0</th>\n",
       "      <td>2020-12-28 01:00:00</td>\n",
       "      <td>0.010100</td>\n",
       "      <td>0.03</td>\n",
       "      <td>0.002</td>\n",
       "    </tr>\n",
       "    <tr>\n",
       "      <th>1</th>\n",
       "      <td>2020-12-28 02:00:00</td>\n",
       "      <td>0.009896</td>\n",
       "      <td>0.03</td>\n",
       "      <td>0.002</td>\n",
       "    </tr>\n",
       "    <tr>\n",
       "      <th>2</th>\n",
       "      <td>2020-12-28 03:00:00</td>\n",
       "      <td>0.009783</td>\n",
       "      <td>0.03</td>\n",
       "      <td>0.002</td>\n",
       "    </tr>\n",
       "    <tr>\n",
       "      <th>3</th>\n",
       "      <td>2020-12-28 04:00:00</td>\n",
       "      <td>0.009689</td>\n",
       "      <td>0.03</td>\n",
       "      <td>0.002</td>\n",
       "    </tr>\n",
       "    <tr>\n",
       "      <th>4</th>\n",
       "      <td>2020-12-28 05:00:00</td>\n",
       "      <td>0.009570</td>\n",
       "      <td>0.03</td>\n",
       "      <td>0.002</td>\n",
       "    </tr>\n",
       "  </tbody>\n",
       "</table>\n",
       "</div>"
      ],
      "text/plain": [
       "                   ds     a_hum   cap  floor\n",
       "0 2020-12-28 01:00:00  0.010100  0.03  0.002\n",
       "1 2020-12-28 02:00:00  0.009896  0.03  0.002\n",
       "2 2020-12-28 03:00:00  0.009783  0.03  0.002\n",
       "3 2020-12-28 04:00:00  0.009689  0.03  0.002\n",
       "4 2020-12-28 05:00:00  0.009570  0.03  0.002"
      ]
     },
     "execution_count": 7,
     "metadata": {},
     "output_type": "execute_result"
    }
   ],
   "source": [
    "df_hum.head()"
   ]
  },
  {
   "cell_type": "code",
   "execution_count": 8,
   "metadata": {},
   "outputs": [],
   "source": [
    "df_hum.columns=['ds','y','cap','floor']"
   ]
  },
  {
   "cell_type": "code",
   "execution_count": 9,
   "metadata": {},
   "outputs": [
    {
     "data": {
      "text/html": [
       "<div>\n",
       "<style scoped>\n",
       "    .dataframe tbody tr th:only-of-type {\n",
       "        vertical-align: middle;\n",
       "    }\n",
       "\n",
       "    .dataframe tbody tr th {\n",
       "        vertical-align: top;\n",
       "    }\n",
       "\n",
       "    .dataframe thead th {\n",
       "        text-align: right;\n",
       "    }\n",
       "</style>\n",
       "<table border=\"1\" class=\"dataframe\">\n",
       "  <thead>\n",
       "    <tr style=\"text-align: right;\">\n",
       "      <th></th>\n",
       "      <th>ds</th>\n",
       "      <th>y</th>\n",
       "      <th>cap</th>\n",
       "      <th>floor</th>\n",
       "    </tr>\n",
       "  </thead>\n",
       "  <tbody>\n",
       "    <tr>\n",
       "      <th>0</th>\n",
       "      <td>2020-12-28 01:00:00</td>\n",
       "      <td>0.010100</td>\n",
       "      <td>0.03</td>\n",
       "      <td>0.002</td>\n",
       "    </tr>\n",
       "    <tr>\n",
       "      <th>1</th>\n",
       "      <td>2020-12-28 02:00:00</td>\n",
       "      <td>0.009896</td>\n",
       "      <td>0.03</td>\n",
       "      <td>0.002</td>\n",
       "    </tr>\n",
       "    <tr>\n",
       "      <th>2</th>\n",
       "      <td>2020-12-28 03:00:00</td>\n",
       "      <td>0.009783</td>\n",
       "      <td>0.03</td>\n",
       "      <td>0.002</td>\n",
       "    </tr>\n",
       "    <tr>\n",
       "      <th>3</th>\n",
       "      <td>2020-12-28 04:00:00</td>\n",
       "      <td>0.009689</td>\n",
       "      <td>0.03</td>\n",
       "      <td>0.002</td>\n",
       "    </tr>\n",
       "    <tr>\n",
       "      <th>4</th>\n",
       "      <td>2020-12-28 05:00:00</td>\n",
       "      <td>0.009570</td>\n",
       "      <td>0.03</td>\n",
       "      <td>0.002</td>\n",
       "    </tr>\n",
       "  </tbody>\n",
       "</table>\n",
       "</div>"
      ],
      "text/plain": [
       "                   ds         y   cap  floor\n",
       "0 2020-12-28 01:00:00  0.010100  0.03  0.002\n",
       "1 2020-12-28 02:00:00  0.009896  0.03  0.002\n",
       "2 2020-12-28 03:00:00  0.009783  0.03  0.002\n",
       "3 2020-12-28 04:00:00  0.009689  0.03  0.002\n",
       "4 2020-12-28 05:00:00  0.009570  0.03  0.002"
      ]
     },
     "execution_count": 9,
     "metadata": {},
     "output_type": "execute_result"
    }
   ],
   "source": [
    "df_hum.head()"
   ]
  },
  {
   "cell_type": "code",
   "execution_count": 10,
   "metadata": {},
   "outputs": [
    {
     "name": "stdout",
     "output_type": "stream",
     "text": [
      "(1970, 4)\n",
      "(490, 4)\n"
     ]
    }
   ],
   "source": [
    "train = df_hum.copy()\n",
    "test = df_hum.copy()\n",
    "train = train[0:1970]\n",
    "test = test[1970:]\n",
    "print(train.shape)\n",
    "print(test.shape)"
   ]
  },
  {
   "cell_type": "code",
   "execution_count": 11,
   "metadata": {},
   "outputs": [
    {
     "name": "stderr",
     "output_type": "stream",
     "text": [
      "INFO:numexpr.utils:NumExpr defaulting to 8 threads.\n"
     ]
    },
    {
     "data": {
      "text/plain": [
       "<fbprophet.forecaster.Prophet at 0x1612de5d850>"
      ]
     },
     "execution_count": 11,
     "metadata": {},
     "output_type": "execute_result"
    }
   ],
   "source": [
    "train['ds']= pd.to_datetime(train['ds'])\n",
    "# define the model\n",
    "#specificirati cap i floor vrijednosti (prema max i min temperaturi)\n",
    "#specificirati seasonality od 15 dana, kao na SARIMAX modelu\n",
    "#model = Prophet() #old, without tweaking\n",
    "model = Prophet(\n",
    "    growth=\"logistic\",\n",
    "    seasonality_mode=\"multiplicative\",\n",
    "    #changepoint_prior_scale=0.1,\n",
    "    daily_seasonality=True,\n",
    "    weekly_seasonality=True,\n",
    "    yearly_seasonality=False)#.add_seasonality(name=\"15 days\", period=360, fourier_order=20, prior_scale=15)\n",
    "#.add_seasonality(name=\"daily\", period=24, fourier_order=150, prior_scale=50)\n",
    "#.add_seasonality(name=\"3 hour\", period=3, fourier_order=12, prior_scale=0.15)\n",
    "# fit the model\n",
    "model.fit(train)"
   ]
  },
  {
   "cell_type": "code",
   "execution_count": 12,
   "metadata": {},
   "outputs": [
    {
     "data": {
      "text/plain": [
       "\"# define the period for which we want a prediction\\nfuture = list()\\nfor i in range(1, 13):\\n    date = '1968-%02d' % i\\n    future.append([date])\\nfuture = DataFrame(future)\\nfuture.columns = ['ds']\\nfuture['ds']= to_datetime(future['ds'])\""
      ]
     },
     "execution_count": 12,
     "metadata": {},
     "output_type": "execute_result"
    }
   ],
   "source": [
    "'''# define the period for which we want a prediction\n",
    "future = list()\n",
    "for i in range(1, 13):\n",
    "    date = '1968-%02d' % i\n",
    "    future.append([date])\n",
    "future = DataFrame(future)\n",
    "future.columns = ['ds']\n",
    "future['ds']= to_datetime(future['ds'])'''"
   ]
  },
  {
   "cell_type": "code",
   "execution_count": 13,
   "metadata": {},
   "outputs": [
    {
     "data": {
      "text/html": [
       "<div>\n",
       "<style scoped>\n",
       "    .dataframe tbody tr th:only-of-type {\n",
       "        vertical-align: middle;\n",
       "    }\n",
       "\n",
       "    .dataframe tbody tr th {\n",
       "        vertical-align: top;\n",
       "    }\n",
       "\n",
       "    .dataframe thead th {\n",
       "        text-align: right;\n",
       "    }\n",
       "</style>\n",
       "<table border=\"1\" class=\"dataframe\">\n",
       "  <thead>\n",
       "    <tr style=\"text-align: right;\">\n",
       "      <th></th>\n",
       "      <th>ds</th>\n",
       "      <th>yhat</th>\n",
       "      <th>yhat_lower</th>\n",
       "      <th>yhat_upper</th>\n",
       "      <th>cap</th>\n",
       "      <th>floor</th>\n",
       "    </tr>\n",
       "  </thead>\n",
       "  <tbody>\n",
       "    <tr>\n",
       "      <th>1970</th>\n",
       "      <td>2021-03-22 14:00:00</td>\n",
       "      <td>NaN</td>\n",
       "      <td>NaN</td>\n",
       "      <td>NaN</td>\n",
       "      <td>0.03</td>\n",
       "      <td>0.002</td>\n",
       "    </tr>\n",
       "    <tr>\n",
       "      <th>1971</th>\n",
       "      <td>2021-03-22 15:00:00</td>\n",
       "      <td>NaN</td>\n",
       "      <td>NaN</td>\n",
       "      <td>NaN</td>\n",
       "      <td>0.03</td>\n",
       "      <td>0.002</td>\n",
       "    </tr>\n",
       "    <tr>\n",
       "      <th>1972</th>\n",
       "      <td>2021-03-22 16:00:00</td>\n",
       "      <td>NaN</td>\n",
       "      <td>NaN</td>\n",
       "      <td>NaN</td>\n",
       "      <td>0.03</td>\n",
       "      <td>0.002</td>\n",
       "    </tr>\n",
       "    <tr>\n",
       "      <th>1973</th>\n",
       "      <td>2021-03-22 17:00:00</td>\n",
       "      <td>NaN</td>\n",
       "      <td>NaN</td>\n",
       "      <td>NaN</td>\n",
       "      <td>0.03</td>\n",
       "      <td>0.002</td>\n",
       "    </tr>\n",
       "    <tr>\n",
       "      <th>1974</th>\n",
       "      <td>2021-03-22 18:00:00</td>\n",
       "      <td>NaN</td>\n",
       "      <td>NaN</td>\n",
       "      <td>NaN</td>\n",
       "      <td>0.03</td>\n",
       "      <td>0.002</td>\n",
       "    </tr>\n",
       "  </tbody>\n",
       "</table>\n",
       "</div>"
      ],
      "text/plain": [
       "                      ds  yhat  yhat_lower  yhat_upper   cap  floor\n",
       "1970 2021-03-22 14:00:00   NaN         NaN         NaN  0.03  0.002\n",
       "1971 2021-03-22 15:00:00   NaN         NaN         NaN  0.03  0.002\n",
       "1972 2021-03-22 16:00:00   NaN         NaN         NaN  0.03  0.002\n",
       "1973 2021-03-22 17:00:00   NaN         NaN         NaN  0.03  0.002\n",
       "1974 2021-03-22 18:00:00   NaN         NaN         NaN  0.03  0.002"
      ]
     },
     "execution_count": 13,
     "metadata": {},
     "output_type": "execute_result"
    }
   ],
   "source": [
    "future = pd.DataFrame(columns=['ds', 'yhat', 'yhat_lower', 'yhat_upper','cap','floor'])\n",
    "future['ds'] = test['ds'].copy()\n",
    "future['yhat']=np.nan\n",
    "future['yhat_lower']=np.nan\n",
    "future['yhat_upper']=np.nan\n",
    "future['cap']=cap\n",
    "future['floor']=floor\n",
    "#future.columns=['ds', 'yhat', 'yhat_lower', 'yhat_upper']\n",
    "#future['ds']=pd.to_datetime(future['ds'])\n",
    "future.head()\n"
   ]
  },
  {
   "cell_type": "code",
   "execution_count": 14,
   "metadata": {},
   "outputs": [
    {
     "name": "stdout",
     "output_type": "stream",
     "text": [
      "                   ds      yhat  yhat_lower  yhat_upper   cap  floor\n",
      "0 2021-03-22 14:00:00  0.011699    0.010782    0.012526  0.03  0.002\n",
      "1 2021-03-22 15:00:00  0.011611    0.010788    0.012469  0.03  0.002\n",
      "2 2021-03-22 16:00:00  0.011506    0.010682    0.012352  0.03  0.002\n",
      "3 2021-03-22 17:00:00  0.011457    0.010553    0.012267  0.03  0.002\n",
      "4 2021-03-22 18:00:00  0.011546    0.010732    0.012362  0.03  0.002\n"
     ]
    },
    {
     "data": {
      "image/png": "[encoded data removed]",
      "text/plain": [
       "<Figure size 720x432 with 1 Axes>"
      ]
     },
     "metadata": {},
     "output_type": "display_data"
    }
   ],
   "source": [
    "forecast = model.predict(future)\n",
    "print(forecast[['ds', 'yhat', 'yhat_lower', 'yhat_upper', 'cap', 'floor']].head())\n",
    "# plot forecast\n",
    "model.plot(forecast)\n",
    "plt.show()"
   ]
  },
  {
   "cell_type": "code",
   "execution_count": 15,
   "metadata": {},
   "outputs": [],
   "source": [
    "def mape(predictions, actuals):\n",
    "    \"\"\"Mean absolute percentage error\"\"\"\n",
    "    return ((predictions - actuals).abs() / actuals).mean()"
   ]
  },
  {
   "cell_type": "code",
   "execution_count": 16,
   "metadata": {},
   "outputs": [
    {
     "data": {
      "text/plain": [
       "(490, 2)"
      ]
     },
     "execution_count": 16,
     "metadata": {},
     "output_type": "execute_result"
    }
   ],
   "source": [
    "#preds = future[['ds','yhat']].copy()\n",
    "#preds['yhat'] = forecast['yhat'].copy()\n",
    "preds = pd.DataFrame({'ds': future['ds'].values, 'yhat' : forecast['yhat'].values})\n",
    "preds.shape"
   ]
  },
  {
   "cell_type": "code",
   "execution_count": 17,
   "metadata": {},
   "outputs": [
    {
     "data": {
      "text/html": [
       "<div>\n",
       "<style scoped>\n",
       "    .dataframe tbody tr th:only-of-type {\n",
       "        vertical-align: middle;\n",
       "    }\n",
       "\n",
       "    .dataframe tbody tr th {\n",
       "        vertical-align: top;\n",
       "    }\n",
       "\n",
       "    .dataframe thead th {\n",
       "        text-align: right;\n",
       "    }\n",
       "</style>\n",
       "<table border=\"1\" class=\"dataframe\">\n",
       "  <thead>\n",
       "    <tr style=\"text-align: right;\">\n",
       "      <th></th>\n",
       "      <th>ds</th>\n",
       "      <th>yhat</th>\n",
       "    </tr>\n",
       "  </thead>\n",
       "  <tbody>\n",
       "    <tr>\n",
       "      <th>485</th>\n",
       "      <td>2021-04-11 19:00:00</td>\n",
       "      <td>0.012796</td>\n",
       "    </tr>\n",
       "    <tr>\n",
       "      <th>486</th>\n",
       "      <td>2021-04-11 20:00:00</td>\n",
       "      <td>0.013123</td>\n",
       "    </tr>\n",
       "    <tr>\n",
       "      <th>487</th>\n",
       "      <td>2021-04-11 21:00:00</td>\n",
       "      <td>0.013300</td>\n",
       "    </tr>\n",
       "    <tr>\n",
       "      <th>488</th>\n",
       "      <td>2021-04-11 22:00:00</td>\n",
       "      <td>0.013211</td>\n",
       "    </tr>\n",
       "    <tr>\n",
       "      <th>489</th>\n",
       "      <td>2021-04-11 23:00:00</td>\n",
       "      <td>0.012881</td>\n",
       "    </tr>\n",
       "  </tbody>\n",
       "</table>\n",
       "</div>"
      ],
      "text/plain": [
       "                     ds      yhat\n",
       "485 2021-04-11 19:00:00  0.012796\n",
       "486 2021-04-11 20:00:00  0.013123\n",
       "487 2021-04-11 21:00:00  0.013300\n",
       "488 2021-04-11 22:00:00  0.013211\n",
       "489 2021-04-11 23:00:00  0.012881"
      ]
     },
     "execution_count": 17,
     "metadata": {},
     "output_type": "execute_result"
    }
   ],
   "source": [
    "preds.tail()\n"
   ]
  },
  {
   "cell_type": "code",
   "execution_count": 18,
   "metadata": {},
   "outputs": [
    {
     "data": {
      "text/html": [
       "<div>\n",
       "<style scoped>\n",
       "    .dataframe tbody tr th:only-of-type {\n",
       "        vertical-align: middle;\n",
       "    }\n",
       "\n",
       "    .dataframe tbody tr th {\n",
       "        vertical-align: top;\n",
       "    }\n",
       "\n",
       "    .dataframe thead th {\n",
       "        text-align: right;\n",
       "    }\n",
       "</style>\n",
       "<table border=\"1\" class=\"dataframe\">\n",
       "  <thead>\n",
       "    <tr style=\"text-align: right;\">\n",
       "      <th></th>\n",
       "      <th>ds</th>\n",
       "      <th>y</th>\n",
       "      <th>cap</th>\n",
       "      <th>floor</th>\n",
       "    </tr>\n",
       "  </thead>\n",
       "  <tbody>\n",
       "    <tr>\n",
       "      <th>2455</th>\n",
       "      <td>2021-04-11 19:00:00</td>\n",
       "      <td>0.012596</td>\n",
       "      <td>0.03</td>\n",
       "      <td>0.002</td>\n",
       "    </tr>\n",
       "    <tr>\n",
       "      <th>2456</th>\n",
       "      <td>2021-04-11 20:00:00</td>\n",
       "      <td>0.012260</td>\n",
       "      <td>0.03</td>\n",
       "      <td>0.002</td>\n",
       "    </tr>\n",
       "    <tr>\n",
       "      <th>2457</th>\n",
       "      <td>2021-04-11 21:00:00</td>\n",
       "      <td>0.012339</td>\n",
       "      <td>0.03</td>\n",
       "      <td>0.002</td>\n",
       "    </tr>\n",
       "    <tr>\n",
       "      <th>2458</th>\n",
       "      <td>2021-04-11 22:00:00</td>\n",
       "      <td>0.012217</td>\n",
       "      <td>0.03</td>\n",
       "      <td>0.002</td>\n",
       "    </tr>\n",
       "    <tr>\n",
       "      <th>2459</th>\n",
       "      <td>2021-04-11 23:00:00</td>\n",
       "      <td>0.011627</td>\n",
       "      <td>0.03</td>\n",
       "      <td>0.002</td>\n",
       "    </tr>\n",
       "  </tbody>\n",
       "</table>\n",
       "</div>"
      ],
      "text/plain": [
       "                      ds         y   cap  floor\n",
       "2455 2021-04-11 19:00:00  0.012596  0.03  0.002\n",
       "2456 2021-04-11 20:00:00  0.012260  0.03  0.002\n",
       "2457 2021-04-11 21:00:00  0.012339  0.03  0.002\n",
       "2458 2021-04-11 22:00:00  0.012217  0.03  0.002\n",
       "2459 2021-04-11 23:00:00  0.011627  0.03  0.002"
      ]
     },
     "execution_count": 18,
     "metadata": {},
     "output_type": "execute_result"
    }
   ],
   "source": [
    "test.tail()"
   ]
  },
  {
   "cell_type": "code",
   "execution_count": 19,
   "metadata": {},
   "outputs": [
    {
     "name": "stdout",
     "output_type": "stream",
     "text": [
      "7.726445577041286\n"
     ]
    }
   ],
   "source": [
    "# calculate MAPE between expected and predicted values\n",
    "ape_lista = []\n",
    "for i in range(len(test)):\n",
    "    ape_lista.append(np.absolute((preds['yhat'].values)[i] - (test['y'].values)[i]) / (test['y'].values)[i])\n",
    "print((sum(ape_lista) / len(ape_lista))*100)"
   ]
  },
  {
   "cell_type": "code",
   "execution_count": 20,
   "metadata": {},
   "outputs": [
    {
     "name": "stderr",
     "output_type": "stream",
     "text": [
      "<ipython-input-20-35d6ac956efa>:3: MatplotlibDeprecationWarning: Case-insensitive properties were deprecated in 3.3 and support will be removed two minor releases later\n",
      "  plt.plot(test['ds'][250:350],test['y'][250:350],color='c',LineWidth=1.5,label='Apsolute humidity (original)')\n",
      "<ipython-input-20-35d6ac956efa>:4: MatplotlibDeprecationWarning: Case-insensitive properties were deprecated in 3.3 and support will be removed two minor releases later\n",
      "  plt.plot(preds['ds'][250:350],preds['yhat'][250:350],color='k',linestyle ='dashed',LineWidth=1.5,label='Apsolute humidity (predicted)')\n"
     ]
    },
    {
     "data": {
      "image/png": "[encoded data removed]",
      "text/plain": [
       "<Figure size 1152x576 with 1 Axes>"
      ]
     },
     "metadata": {
      "needs_background": "light"
     },
     "output_type": "display_data"
    }
   ],
   "source": [
    "plt.rcParams['figure.figsize']=[16,8]\n",
    "plt.rcParams.update({'font.size':10})\n",
    "plt.plot(test['ds'][250:350],test['y'][250:350],color='c',LineWidth=1.5,label='Apsolute humidity (original)')\n",
    "plt.plot(preds['ds'][250:350],preds['yhat'][250:350],color='k',linestyle ='dashed',LineWidth=1.5,label='Apsolute humidity (predicted)')\n",
    "plt.xticks(rotation=45)\n",
    "plt.legend()\n",
    "plt.savefig('page_fbp.pdf',\n",
    "            dpi=600,\n",
    "            orientation='landscape')"
   ]
  },
  {
   "cell_type": "code",
   "execution_count": null,
   "metadata": {},
   "outputs": [],
   "source": []
  }
 ],
 "metadata": {
  "kernelspec": {
   "display_name": "Python 3",
   "language": "python",
   "name": "python3"
  },
  "language_info": {
   "codemirror_mode": {
    "name": "ipython",
    "version": 3
   },
   "file_extension": ".py",
   "mimetype": "text/x-python",
   "name": "python",
   "nbconvert_exporter": "python",
   "pygments_lexer": "ipython3",
   "version": "3.8.8"
  }
 },
 "nbformat": 4,
 "nbformat_minor": 2
}
