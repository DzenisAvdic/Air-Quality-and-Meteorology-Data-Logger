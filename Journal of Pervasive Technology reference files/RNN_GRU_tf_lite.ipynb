{
 "cells": [
  {
   "cell_type": "code",
   "execution_count": 1,
   "metadata": {},
   "outputs": [],
   "source": [
    "import pandas as pd\n",
    "import matplotlib.pyplot as plt\n",
    "import numpy as np\n",
    "import os\n",
    "import warnings\n",
    "from windrose import WindroseAxes\n",
    "from windrose import plot_windrose\n",
    "import matplotlib.cm as cm\n",
    "from PIL import Image\n",
    "import time\n",
    "from urllib.request import urlopen\n",
    "from bs4 import BeautifulSoup\n",
    "import re\n",
    "from fbprophet import Prophet\n",
    "import math\n",
    "import datetime as dt\n",
    "from collections import UserDict\n",
    "from sklearn.preprocessing import MinMaxScaler\n",
    "from IPython.display import Image\n",
    "%matplotlib inline\n",
    "\n",
    "#from common.utils import load_data, mape\n",
    "\n",
    "#pd.options.display.float_format='{:,.2f}'.format\n",
    "#np.set_printoptions(precision=2)\n",
    "warnings.filterwarnings(\"ignore\")\n",
    "\n",
    "\n",
    "\n",
    "df = pd.read_csv('preprocessed_data_15_weeks.csv')\n",
    "df.ds= pd.to_datetime(df.ds)"
   ]
  },
  {
   "cell_type": "code",
   "execution_count": 2,
   "metadata": {},
   "outputs": [
    {
     "data": {
      "image/png": "[encoded data removed]",
      "text/plain": [
       "<Figure size 288x288 with 1 Axes>"
      ]
     },
     "metadata": {
      "needs_background": "light"
     },
     "output_type": "display_data"
    }
   ],
   "source": [
    "plt.matshow(df.corr())\n",
    "plt.show()"
   ]
  },
  {
   "cell_type": "code",
   "execution_count": 3,
   "metadata": {},
   "outputs": [
    {
     "data": {
      "text/html": [
       "<div>\n",
       "<style scoped>\n",
       "    .dataframe tbody tr th:only-of-type {\n",
       "        vertical-align: middle;\n",
       "    }\n",
       "\n",
       "    .dataframe tbody tr th {\n",
       "        vertical-align: top;\n",
       "    }\n",
       "\n",
       "    .dataframe thead th {\n",
       "        text-align: right;\n",
       "    }\n",
       "</style>\n",
       "<table border=\"1\" class=\"dataframe\">\n",
       "  <thead>\n",
       "    <tr style=\"text-align: right;\">\n",
       "      <th></th>\n",
       "      <th>ds</th>\n",
       "      <th>dan</th>\n",
       "      <th>temp</th>\n",
       "      <th>r_hum</th>\n",
       "      <th>co_2</th>\n",
       "      <th>aqi_i</th>\n",
       "      <th>temp_e</th>\n",
       "      <th>r_hum_e</th>\n",
       "      <th>press</th>\n",
       "      <th>wind_s</th>\n",
       "      <th>wind_a</th>\n",
       "      <th>aqi_e</th>\n",
       "      <th>a_hum</th>\n",
       "    </tr>\n",
       "  </thead>\n",
       "  <tbody>\n",
       "    <tr>\n",
       "      <th>0</th>\n",
       "      <td>2020-12-28 01:00:00</td>\n",
       "      <td>1.0</td>\n",
       "      <td>26.262567</td>\n",
       "      <td>40.976413</td>\n",
       "      <td>728.598900</td>\n",
       "      <td>67.941840</td>\n",
       "      <td>2.410</td>\n",
       "      <td>100.000000</td>\n",
       "      <td>998.0</td>\n",
       "      <td>7.200000</td>\n",
       "      <td>130.0</td>\n",
       "      <td>60.666667</td>\n",
       "      <td>0.010100</td>\n",
       "    </tr>\n",
       "    <tr>\n",
       "      <th>1</th>\n",
       "      <td>2020-12-28 02:00:00</td>\n",
       "      <td>1.0</td>\n",
       "      <td>25.984767</td>\n",
       "      <td>40.775907</td>\n",
       "      <td>675.325533</td>\n",
       "      <td>65.810073</td>\n",
       "      <td>2.890</td>\n",
       "      <td>100.000000</td>\n",
       "      <td>998.0</td>\n",
       "      <td>4.600000</td>\n",
       "      <td>120.0</td>\n",
       "      <td>52.000000</td>\n",
       "      <td>0.009896</td>\n",
       "    </tr>\n",
       "    <tr>\n",
       "      <th>2</th>\n",
       "      <td>2020-12-28 03:00:00</td>\n",
       "      <td>1.0</td>\n",
       "      <td>25.831253</td>\n",
       "      <td>40.658130</td>\n",
       "      <td>659.029267</td>\n",
       "      <td>64.538170</td>\n",
       "      <td>2.885</td>\n",
       "      <td>96.500000</td>\n",
       "      <td>999.0</td>\n",
       "      <td>5.400000</td>\n",
       "      <td>155.0</td>\n",
       "      <td>40.333333</td>\n",
       "      <td>0.009783</td>\n",
       "    </tr>\n",
       "    <tr>\n",
       "      <th>3</th>\n",
       "      <td>2020-12-28 04:00:00</td>\n",
       "      <td>1.0</td>\n",
       "      <td>25.716143</td>\n",
       "      <td>40.527917</td>\n",
       "      <td>642.445900</td>\n",
       "      <td>64.224107</td>\n",
       "      <td>4.110</td>\n",
       "      <td>90.666667</td>\n",
       "      <td>999.0</td>\n",
       "      <td>7.700000</td>\n",
       "      <td>150.0</td>\n",
       "      <td>21.000000</td>\n",
       "      <td>0.009689</td>\n",
       "    </tr>\n",
       "    <tr>\n",
       "      <th>4</th>\n",
       "      <td>2020-12-28 05:00:00</td>\n",
       "      <td>1.0</td>\n",
       "      <td>25.571363</td>\n",
       "      <td>40.354333</td>\n",
       "      <td>638.112600</td>\n",
       "      <td>64.128677</td>\n",
       "      <td>5.000</td>\n",
       "      <td>84.000000</td>\n",
       "      <td>999.0</td>\n",
       "      <td>5.633333</td>\n",
       "      <td>100.0</td>\n",
       "      <td>11.666667</td>\n",
       "      <td>0.009570</td>\n",
       "    </tr>\n",
       "  </tbody>\n",
       "</table>\n",
       "</div>"
      ],
      "text/plain": [
       "                   ds  dan       temp      r_hum        co_2      aqi_i  \\\n",
       "0 2020-12-28 01:00:00  1.0  26.262567  40.976413  728.598900  67.941840   \n",
       "1 2020-12-28 02:00:00  1.0  25.984767  40.775907  675.325533  65.810073   \n",
       "2 2020-12-28 03:00:00  1.0  25.831253  40.658130  659.029267  64.538170   \n",
       "3 2020-12-28 04:00:00  1.0  25.716143  40.527917  642.445900  64.224107   \n",
       "4 2020-12-28 05:00:00  1.0  25.571363  40.354333  638.112600  64.128677   \n",
       "\n",
       "   temp_e     r_hum_e  press    wind_s  wind_a      aqi_e     a_hum  \n",
       "0   2.410  100.000000  998.0  7.200000   130.0  60.666667  0.010100  \n",
       "1   2.890  100.000000  998.0  4.600000   120.0  52.000000  0.009896  \n",
       "2   2.885   96.500000  999.0  5.400000   155.0  40.333333  0.009783  \n",
       "3   4.110   90.666667  999.0  7.700000   150.0  21.000000  0.009689  \n",
       "4   5.000   84.000000  999.0  5.633333   100.0  11.666667  0.009570  "
      ]
     },
     "execution_count": 3,
     "metadata": {},
     "output_type": "execute_result"
    }
   ],
   "source": [
    "#a_hum=(6.112*r_hum*math.exp((17.62*temp)/(243.12+temp)))/(461.5*(temp+273.15))\n",
    "#df['a_hum'] = df.apply(lambda row: (6.112*row['r_hum']*math.exp((17.62*row['temp'])/(243.12+row['temp'])))/(461.5*(row['temp']+273.15)))\n",
    "a_hum = []\n",
    "counter = 0\n",
    "for row in range(len(df['r_hum'])):\n",
    "    ah=(6.112*df['r_hum'][row]*math.exp((17.62*df['temp'][row])/(243.12+df['temp'][row])))/(461.5*(df['temp'][row]+273.15))\n",
    "    a_hum.append(ah)\n",
    "df['a_hum']=a_hum\n",
    "df.head()\n",
    "#df=df.set_index('ds')"
   ]
  },
  {
   "cell_type": "code",
   "execution_count": 4,
   "metadata": {},
   "outputs": [],
   "source": [
    "#df = df.drop(['ds', 'dan', 'temp','r_hum','temp_e','r_hum_e'], axis=1)\n",
    "#df['wind_component'] = df['wind_s'] * np.sin(df['wind_a'])\n",
    "#df['wind_component'] = df['wind_component'].clip(lower=0)\n",
    "#df = df.drop(['wind_s', 'wind_a'], axis=1)\n",
    "##df = df[df.co_2 > 1200]\n",
    "#df.shape"
   ]
  },
  {
   "cell_type": "code",
   "execution_count": 5,
   "metadata": {},
   "outputs": [],
   "source": [
    "#df.head()"
   ]
  },
  {
   "cell_type": "code",
   "execution_count": 6,
   "metadata": {},
   "outputs": [],
   "source": [
    "#df = df[df.co_2 > 1200]\n",
    "\n",
    "#x = df.values #returns a numpy array\n",
    "#min_max_scaler = MinMaxScaler()\n",
    "#x_scaled = min_max_scaler.fit_transform(x)\n",
    "#df = pd.DataFrame(x_scaled)\n",
    "#df.head()\n",
    "df_hum=df[['ds','a_hum']].copy()\n",
    "df_hum = df_hum.rename(columns={'a_hum': 'y'})"
   ]
  },
  {
   "cell_type": "code",
   "execution_count": 7,
   "metadata": {},
   "outputs": [
    {
     "name": "stdout",
     "output_type": "stream",
     "text": [
      "(1970, 2)\n",
      "(245, 2)\n",
      "(245, 2)\n"
     ]
    }
   ],
   "source": [
    "train = df_hum.copy()\n",
    "validation = df_hum.copy()\n",
    "test = df_hum.copy()\n",
    "\n",
    "train = train[0:1970]\n",
    "validation = validation[1970:2215]\n",
    "test = test[2215:]\n",
    "print(train.shape)\n",
    "print(validation.shape)\n",
    "print(test.shape)"
   ]
  },
  {
   "cell_type": "code",
   "execution_count": 8,
   "metadata": {},
   "outputs": [],
   "source": [
    "T = 6 #the number of lag variables, previous 6 hours\n",
    "HORIZON = 1 #predicting next hour\n"
   ]
  },
  {
   "cell_type": "code",
   "execution_count": 9,
   "metadata": {},
   "outputs": [
    {
     "data": {
      "text/html": [
       "<div>\n",
       "<style scoped>\n",
       "    .dataframe tbody tr th:only-of-type {\n",
       "        vertical-align: middle;\n",
       "    }\n",
       "\n",
       "    .dataframe tbody tr th {\n",
       "        vertical-align: top;\n",
       "    }\n",
       "\n",
       "    .dataframe thead th {\n",
       "        text-align: right;\n",
       "    }\n",
       "</style>\n",
       "<table border=\"1\" class=\"dataframe\">\n",
       "  <thead>\n",
       "    <tr style=\"text-align: right;\">\n",
       "      <th></th>\n",
       "      <th>y</th>\n",
       "    </tr>\n",
       "    <tr>\n",
       "      <th>ds</th>\n",
       "      <th></th>\n",
       "    </tr>\n",
       "  </thead>\n",
       "  <tbody>\n",
       "    <tr>\n",
       "      <th>2021-04-01 19:00:00</th>\n",
       "      <td>0.012102</td>\n",
       "    </tr>\n",
       "    <tr>\n",
       "      <th>2021-04-01 20:00:00</th>\n",
       "      <td>0.012104</td>\n",
       "    </tr>\n",
       "    <tr>\n",
       "      <th>2021-04-01 21:00:00</th>\n",
       "      <td>0.012018</td>\n",
       "    </tr>\n",
       "    <tr>\n",
       "      <th>2021-04-01 22:00:00</th>\n",
       "      <td>0.011972</td>\n",
       "    </tr>\n",
       "    <tr>\n",
       "      <th>2021-04-01 23:00:00</th>\n",
       "      <td>0.011970</td>\n",
       "    </tr>\n",
       "  </tbody>\n",
       "</table>\n",
       "</div>"
      ],
      "text/plain": [
       "                            y\n",
       "ds                           \n",
       "2021-04-01 19:00:00  0.012102\n",
       "2021-04-01 20:00:00  0.012104\n",
       "2021-04-01 21:00:00  0.012018\n",
       "2021-04-01 22:00:00  0.011972\n",
       "2021-04-01 23:00:00  0.011970"
      ]
     },
     "execution_count": 9,
     "metadata": {},
     "output_type": "execute_result"
    }
   ],
   "source": [
    "#train = train['y']\n",
    "train = train.set_index('ds')\n",
    "#train = train.drop(['floor','cap'], axis=1)\n",
    "train.head()\n",
    "\n",
    "\n",
    "validation = validation.set_index('ds')\n",
    "validation.head()\n",
    "\n",
    "test = test.set_index('ds')\n",
    "test.head()\n",
    "\n"
   ]
  },
  {
   "cell_type": "code",
   "execution_count": 10,
   "metadata": {},
   "outputs": [],
   "source": [
    "scaler = MinMaxScaler()\n",
    "train['y'] = scaler.fit_transform(train)\n",
    "train_shifted = train.copy()\n",
    "train_shifted['y_t+1'] = train_shifted['y'].shift(-1, freq='H')\n",
    "\n",
    "validation['y'] = scaler.fit_transform(validation)\n",
    "validation_shifted = validation.copy()\n",
    "validation_shifted['y_t+1'] = validation_shifted['y'].shift(-1, freq='H')\n",
    "\n",
    "test['y'] = scaler.fit_transform(test)\n",
    "test_shifted = test.copy()\n",
    "test_shifted['y_t+1'] = test_shifted['y'].shift(-1, freq='H')"
   ]
  },
  {
   "cell_type": "code",
   "execution_count": 11,
   "metadata": {},
   "outputs": [
    {
     "data": {
      "text/html": [
       "<div>\n",
       "<style scoped>\n",
       "    .dataframe tbody tr th:only-of-type {\n",
       "        vertical-align: middle;\n",
       "    }\n",
       "\n",
       "    .dataframe tbody tr th {\n",
       "        vertical-align: top;\n",
       "    }\n",
       "\n",
       "    .dataframe thead th {\n",
       "        text-align: right;\n",
       "    }\n",
       "</style>\n",
       "<table border=\"1\" class=\"dataframe\">\n",
       "  <thead>\n",
       "    <tr style=\"text-align: right;\">\n",
       "      <th></th>\n",
       "      <th>y_original</th>\n",
       "      <th>y_t+1</th>\n",
       "      <th>y_t-5</th>\n",
       "      <th>y_t-4</th>\n",
       "      <th>y_t-3</th>\n",
       "      <th>y_t-2</th>\n",
       "      <th>y_t-1</th>\n",
       "      <th>y_t</th>\n",
       "    </tr>\n",
       "    <tr>\n",
       "      <th>ds</th>\n",
       "      <th></th>\n",
       "      <th></th>\n",
       "      <th></th>\n",
       "      <th></th>\n",
       "      <th></th>\n",
       "      <th></th>\n",
       "      <th></th>\n",
       "      <th></th>\n",
       "    </tr>\n",
       "  </thead>\n",
       "  <tbody>\n",
       "    <tr>\n",
       "      <th>2021-04-02 00:00:00</th>\n",
       "      <td>0.769896</td>\n",
       "      <td>0.766150</td>\n",
       "      <td>0.822337</td>\n",
       "      <td>0.822770</td>\n",
       "      <td>0.798130</td>\n",
       "      <td>0.784707</td>\n",
       "      <td>0.784118</td>\n",
       "      <td>0.769896</td>\n",
       "    </tr>\n",
       "    <tr>\n",
       "      <th>2021-04-02 01:00:00</th>\n",
       "      <td>0.766150</td>\n",
       "      <td>0.757585</td>\n",
       "      <td>0.822770</td>\n",
       "      <td>0.798130</td>\n",
       "      <td>0.784707</td>\n",
       "      <td>0.784118</td>\n",
       "      <td>0.769896</td>\n",
       "      <td>0.766150</td>\n",
       "    </tr>\n",
       "    <tr>\n",
       "      <th>2021-04-02 02:00:00</th>\n",
       "      <td>0.757585</td>\n",
       "      <td>0.745918</td>\n",
       "      <td>0.798130</td>\n",
       "      <td>0.784707</td>\n",
       "      <td>0.784118</td>\n",
       "      <td>0.769896</td>\n",
       "      <td>0.766150</td>\n",
       "      <td>0.757585</td>\n",
       "    </tr>\n",
       "    <tr>\n",
       "      <th>2021-04-02 03:00:00</th>\n",
       "      <td>0.745918</td>\n",
       "      <td>0.731961</td>\n",
       "      <td>0.784707</td>\n",
       "      <td>0.784118</td>\n",
       "      <td>0.769896</td>\n",
       "      <td>0.766150</td>\n",
       "      <td>0.757585</td>\n",
       "      <td>0.745918</td>\n",
       "    </tr>\n",
       "    <tr>\n",
       "      <th>2021-04-02 04:00:00</th>\n",
       "      <td>0.731961</td>\n",
       "      <td>0.720432</td>\n",
       "      <td>0.784118</td>\n",
       "      <td>0.769896</td>\n",
       "      <td>0.766150</td>\n",
       "      <td>0.757585</td>\n",
       "      <td>0.745918</td>\n",
       "      <td>0.731961</td>\n",
       "    </tr>\n",
       "  </tbody>\n",
       "</table>\n",
       "</div>"
      ],
      "text/plain": [
       "                     y_original     y_t+1     y_t-5     y_t-4     y_t-3  \\\n",
       "ds                                                                        \n",
       "2021-04-02 00:00:00    0.769896  0.766150  0.822337  0.822770  0.798130   \n",
       "2021-04-02 01:00:00    0.766150  0.757585  0.822770  0.798130  0.784707   \n",
       "2021-04-02 02:00:00    0.757585  0.745918  0.798130  0.784707  0.784118   \n",
       "2021-04-02 03:00:00    0.745918  0.731961  0.784707  0.784118  0.769896   \n",
       "2021-04-02 04:00:00    0.731961  0.720432  0.784118  0.769896  0.766150   \n",
       "\n",
       "                        y_t-2     y_t-1       y_t  \n",
       "ds                                                 \n",
       "2021-04-02 00:00:00  0.784707  0.784118  0.769896  \n",
       "2021-04-02 01:00:00  0.784118  0.769896  0.766150  \n",
       "2021-04-02 02:00:00  0.769896  0.766150  0.757585  \n",
       "2021-04-02 03:00:00  0.766150  0.757585  0.745918  \n",
       "2021-04-02 04:00:00  0.757585  0.745918  0.731961  "
      ]
     },
     "execution_count": 11,
     "metadata": {},
     "output_type": "execute_result"
    }
   ],
   "source": [
    "for t in range (1, T+1):\n",
    "    train_shifted[str(T-t)]=train_shifted['y'].shift(T-t, freq='H')\n",
    "y_col = 'y_t+1'\n",
    "x_cols = ['y_t-5', 'y_t-4', 'y_t-3', 'y_t-2', 'y_t-1', 'y_t']\n",
    "train_shifted.columns = ['y_original'] + [y_col] + x_cols\n",
    "train_shifted = train_shifted.dropna(how='any')\n",
    "train_shifted.head(5)\n",
    "\n",
    "for t in range (1, T+1):\n",
    "    validation_shifted[str(T-t)]=validation_shifted['y'].shift(T-t, freq='H')\n",
    "y_col = 'y_t+1'\n",
    "x_cols = ['y_t-5', 'y_t-4', 'y_t-3', 'y_t-2', 'y_t-1', 'y_t']\n",
    "validation_shifted.columns = ['y_original'] + [y_col] + x_cols\n",
    "validation_shifted = validation_shifted.dropna(how='any')\n",
    "validation_shifted.head(5)\n",
    "\n",
    "for t in range (1, T+1):\n",
    "    test_shifted[str(T-t)]=test_shifted['y'].shift(T-t, freq='H')\n",
    "y_col = 'y_t+1'\n",
    "x_cols = ['y_t-5', 'y_t-4', 'y_t-3', 'y_t-2', 'y_t-1', 'y_t']\n",
    "test_shifted.columns = ['y_original'] + [y_col] + x_cols\n",
    "test_shifted = test_shifted.dropna(how='any')\n",
    "test_shifted.head(5)\n",
    "\n"
   ]
  },
  {
   "cell_type": "code",
   "execution_count": 12,
   "metadata": {},
   "outputs": [],
   "source": [
    "y_train = train_shifted[y_col].to_numpy()\n",
    "x_train = train_shifted[x_cols].to_numpy()\n",
    "\n",
    "y_valid = validation_shifted[y_col].to_numpy()\n",
    "x_valid = validation_shifted[x_cols].to_numpy()\n",
    "\n",
    "y_test = test_shifted[y_col].to_numpy()\n",
    "x_test = test_shifted[x_cols].to_numpy()"
   ]
  },
  {
   "cell_type": "code",
   "execution_count": 13,
   "metadata": {},
   "outputs": [],
   "source": [
    "x_train = x_train.reshape(x_train.shape[0], T, 1)\n",
    "\n",
    "x_valid = x_valid.reshape(x_valid.shape[0], T, 1)\n",
    "x_test = x_test.reshape(x_test.shape[0], T, 1)"
   ]
  },
  {
   "cell_type": "code",
   "execution_count": 14,
   "metadata": {},
   "outputs": [
    {
     "data": {
      "text/plain": [
       "(1862,)"
      ]
     },
     "execution_count": 14,
     "metadata": {},
     "output_type": "execute_result"
    }
   ],
   "source": [
    "y_train.shape"
   ]
  },
  {
   "cell_type": "code",
   "execution_count": 15,
   "metadata": {},
   "outputs": [
    {
     "data": {
      "text/plain": [
       "(1862, 6, 1)"
      ]
     },
     "execution_count": 15,
     "metadata": {},
     "output_type": "execute_result"
    }
   ],
   "source": [
    "x_train.shape"
   ]
  },
  {
   "cell_type": "code",
   "execution_count": 16,
   "metadata": {},
   "outputs": [
    {
     "data": {
      "text/plain": [
       "(239,)"
      ]
     },
     "execution_count": 16,
     "metadata": {},
     "output_type": "execute_result"
    }
   ],
   "source": [
    "y_valid.shape\n"
   ]
  },
  {
   "cell_type": "code",
   "execution_count": 17,
   "metadata": {},
   "outputs": [
    {
     "data": {
      "text/plain": [
       "(239, 6, 1)"
      ]
     },
     "execution_count": 17,
     "metadata": {},
     "output_type": "execute_result"
    }
   ],
   "source": [
    "x_valid.shape"
   ]
  },
  {
   "cell_type": "code",
   "execution_count": 18,
   "metadata": {},
   "outputs": [
    {
     "data": {
      "text/plain": [
       "(239,)"
      ]
     },
     "execution_count": 18,
     "metadata": {},
     "output_type": "execute_result"
    }
   ],
   "source": [
    "y_test.shape"
   ]
  },
  {
   "cell_type": "code",
   "execution_count": 19,
   "metadata": {},
   "outputs": [
    {
     "data": {
      "text/plain": [
       "(239, 6, 1)"
      ]
     },
     "execution_count": 19,
     "metadata": {},
     "output_type": "execute_result"
    }
   ],
   "source": [
    "x_test.shape"
   ]
  },
  {
   "cell_type": "code",
   "execution_count": 20,
   "metadata": {},
   "outputs": [],
   "source": [
    "#preprocessing DONE!!\n",
    "#univariate models page 167"
   ]
  },
  {
   "cell_type": "code",
   "execution_count": 21,
   "metadata": {},
   "outputs": [],
   "source": [
    "from keras.models import Model, Sequential\n",
    "from keras.layers import GRU, Dense\n",
    "from keras.callbacks import EarlyStopping"
   ]
  },
  {
   "cell_type": "code",
   "execution_count": 22,
   "metadata": {},
   "outputs": [],
   "source": [
    "LATENT_DIM = 5\n",
    "BATCH_SIZE = 32\n",
    "EPOCHS = 10"
   ]
  },
  {
   "cell_type": "code",
   "execution_count": 23,
   "metadata": {},
   "outputs": [],
   "source": [
    "model = Sequential()\n",
    "model.add(GRU(LATENT_DIM, input_shape=(T, 1)))\n",
    "model.add(Dense(HORIZON))"
   ]
  },
  {
   "cell_type": "code",
   "execution_count": 24,
   "metadata": {},
   "outputs": [
    {
     "name": "stdout",
     "output_type": "stream",
     "text": [
      "Model: \"sequential\"\n",
      "_________________________________________________________________\n",
      "Layer (type)                 Output Shape              Param #   \n",
      "=================================================================\n",
      "gru (GRU)                    (None, 5)                 120       \n",
      "_________________________________________________________________\n",
      "dense (Dense)                (None, 1)                 6         \n",
      "=================================================================\n",
      "Total params: 126\n",
      "Trainable params: 126\n",
      "Non-trainable params: 0\n",
      "_________________________________________________________________\n"
     ]
    }
   ],
   "source": [
    "model.compile(optimizer='RMSprop', loss='mse')\n",
    "model.summary()"
   ]
  },
  {
   "cell_type": "code",
   "execution_count": 25,
   "metadata": {},
   "outputs": [],
   "source": [
    "GRU_earlystop = EarlyStopping(monitor='val_loss', min_delta=0, patience=5)"
   ]
  },
  {
   "cell_type": "code",
   "execution_count": 26,
   "metadata": {},
   "outputs": [
    {
     "name": "stdout",
     "output_type": "stream",
     "text": [
      "Epoch 1/10\n",
      "59/59 [==============================] - 1s 18ms/step - loss: 0.1410 - val_loss: 0.0296\n",
      "Epoch 2/10\n",
      "59/59 [==============================] - 0s 7ms/step - loss: 0.0173 - val_loss: 0.0196\n",
      "Epoch 3/10\n",
      "59/59 [==============================] - 0s 5ms/step - loss: 0.0113 - val_loss: 0.0142\n",
      "Epoch 4/10\n",
      "59/59 [==============================] - 0s 5ms/step - loss: 0.0085 - val_loss: 0.0107\n",
      "Epoch 5/10\n",
      "59/59 [==============================] - 0s 6ms/step - loss: 0.0070 - val_loss: 0.0091\n",
      "Epoch 6/10\n",
      "59/59 [==============================] - 0s 6ms/step - loss: 0.0060 - val_loss: 0.0082\n",
      "Epoch 7/10\n",
      "59/59 [==============================] - 0s 6ms/step - loss: 0.0056 - val_loss: 0.0080\n",
      "Epoch 8/10\n",
      "59/59 [==============================] - 0s 6ms/step - loss: 0.0052 - val_loss: 0.0077\n",
      "Epoch 9/10\n",
      "59/59 [==============================] - 0s 6ms/step - loss: 0.0049 - val_loss: 0.0074\n",
      "Epoch 10/10\n",
      "59/59 [==============================] - 0s 6ms/step - loss: 0.0048 - val_loss: 0.0075\n"
     ]
    }
   ],
   "source": [
    "model_history = model.fit(x_train, y_train, batch_size=BATCH_SIZE, epochs=EPOCHS, validation_data=(x_valid, y_valid), callbacks=[GRU_earlystop], verbose=1)"
   ]
  },
  {
   "cell_type": "code",
   "execution_count": 27,
   "metadata": {},
   "outputs": [],
   "source": [
    "ts_predictions = model.predict(x_test)"
   ]
  },
  {
   "cell_type": "code",
   "execution_count": 28,
   "metadata": {},
   "outputs": [
    {
     "data": {
      "text/plain": [
       "(239, 1)"
      ]
     },
     "execution_count": 28,
     "metadata": {},
     "output_type": "execute_result"
    }
   ],
   "source": [
    "ts_predictions.shape"
   ]
  },
  {
   "cell_type": "code",
   "execution_count": 29,
   "metadata": {},
   "outputs": [
    {
     "data": {
      "text/html": [
       "<div>\n",
       "<style scoped>\n",
       "    .dataframe tbody tr th:only-of-type {\n",
       "        vertical-align: middle;\n",
       "    }\n",
       "\n",
       "    .dataframe tbody tr th {\n",
       "        vertical-align: top;\n",
       "    }\n",
       "\n",
       "    .dataframe thead th {\n",
       "        text-align: right;\n",
       "    }\n",
       "</style>\n",
       "<table border=\"1\" class=\"dataframe\">\n",
       "  <thead>\n",
       "    <tr style=\"text-align: right;\">\n",
       "      <th></th>\n",
       "      <th>timestamp</th>\n",
       "      <th>h</th>\n",
       "      <th>prediction</th>\n",
       "      <th>actual</th>\n",
       "    </tr>\n",
       "  </thead>\n",
       "  <tbody>\n",
       "    <tr>\n",
       "      <th>0</th>\n",
       "      <td>2021-04-02 00:00:00</td>\n",
       "      <td>t+1</td>\n",
       "      <td>0.011701</td>\n",
       "      <td>0.011908</td>\n",
       "    </tr>\n",
       "    <tr>\n",
       "      <th>1</th>\n",
       "      <td>2021-04-02 01:00:00</td>\n",
       "      <td>t+1</td>\n",
       "      <td>0.011694</td>\n",
       "      <td>0.011878</td>\n",
       "    </tr>\n",
       "    <tr>\n",
       "      <th>2</th>\n",
       "      <td>2021-04-02 02:00:00</td>\n",
       "      <td>t+1</td>\n",
       "      <td>0.011669</td>\n",
       "      <td>0.011838</td>\n",
       "    </tr>\n",
       "    <tr>\n",
       "      <th>3</th>\n",
       "      <td>2021-04-02 03:00:00</td>\n",
       "      <td>t+1</td>\n",
       "      <td>0.011634</td>\n",
       "      <td>0.011790</td>\n",
       "    </tr>\n",
       "    <tr>\n",
       "      <th>4</th>\n",
       "      <td>2021-04-02 04:00:00</td>\n",
       "      <td>t+1</td>\n",
       "      <td>0.011592</td>\n",
       "      <td>0.011750</td>\n",
       "    </tr>\n",
       "  </tbody>\n",
       "</table>\n",
       "</div>"
      ],
      "text/plain": [
       "            timestamp    h  prediction    actual\n",
       "0 2021-04-02 00:00:00  t+1    0.011701  0.011908\n",
       "1 2021-04-02 01:00:00  t+1    0.011694  0.011878\n",
       "2 2021-04-02 02:00:00  t+1    0.011669  0.011838\n",
       "3 2021-04-02 03:00:00  t+1    0.011634  0.011790\n",
       "4 2021-04-02 04:00:00  t+1    0.011592  0.011750"
      ]
     },
     "execution_count": 29,
     "metadata": {},
     "output_type": "execute_result"
    }
   ],
   "source": [
    "ev_ts_data = pd.DataFrame(ts_predictions, columns=['t+'+str(t) for t in range(1, HORIZON+1)])\n",
    "\n",
    "ev_ts_data=pd.melt(ev_ts_data, id_vars='timestamp', value_name='prediction', var_name='h')\n",
    "ev_ts_data['actual']=np.transpose(y_test).ravel()\n",
    "ev_ts_data[['prediction', 'actual']]=scaler.inverse_transform(ev_ts_data[['prediction','actual']])\n",
    "ev_ts_data.head()"
   ]
  },
  {
   "cell_type": "code",
   "execution_count": 30,
   "metadata": {},
   "outputs": [
    {
     "data": {
      "text/plain": [
       "0.02024375341849659"
      ]
     },
     "execution_count": 30,
     "metadata": {},
     "output_type": "execute_result"
    }
   ],
   "source": [
    "def mape(ts_predictions, actuals):\n",
    "    \"\"\"Mean absolute percentage error\"\"\"\n",
    "    return (((ts_predictions - actuals).abs() / actuals).mean())\n",
    "\n",
    "mape(ev_ts_data['prediction'], ev_ts_data['actual'])"
   ]
  },
  {
   "cell_type": "code",
   "execution_count": 31,
   "metadata": {},
   "outputs": [
    {
     "data": {
      "image/png": "[encoded data removed]",
      "text/plain": [
       "<Figure size 1152x576 with 1 Axes>"
      ]
     },
     "metadata": {
      "needs_background": "light"
     },
     "output_type": "display_data"
    }
   ],
   "source": [
    "ev_ts_data[0:100].plot(x='timestamp',y=['prediction','actual'], style=['k--','c'], figsize=(16,8))\n",
    "plt.xlabel('timestamp', fontsize=8)\n",
    "plt.ylabel('a_hum', fontsize=8)\n",
    "plt.show()"
   ]
  },
  {
   "cell_type": "code",
   "execution_count": 32,
   "metadata": {},
   "outputs": [
    {
     "data": {
      "image/png": "[encoded data removed]",
      "text/plain": [
       "<Figure size 1152x576 with 1 Axes>"
      ]
     },
     "metadata": {
      "needs_background": "light"
     },
     "output_type": "display_data"
    }
   ],
   "source": [
    "plt.rcParams['figure.figsize']=[16,8]\n",
    "plt.rcParams.update({'font.size':10})\n",
    "plt.plot(ev_ts_data['timestamp'][0:100],ev_ts_data['actual'][0:100],color='c',LineWidth=1.5,label='Apsolute humidity (original)')\n",
    "plt.plot(ev_ts_data['timestamp'][0:100],ev_ts_data['prediction'][0:100],color='k',linestyle ='dashed',LineWidth=1.5,label='Apsolute humidity (predicted)')\n",
    "plt.xticks(rotation=45)\n",
    "plt.legend()\n",
    "plt.savefig('page_GRU.pdf',\n",
    "            dpi=600,\n",
    "            orientation='landscape')"
   ]
  },
  {
   "cell_type": "code",
   "execution_count": 35,
   "metadata": {},
   "outputs": [
    {
     "name": "stdout",
     "output_type": "stream",
     "text": [
      "INFO:tensorflow:Assets written to: C:\\Users\\38761\\AppData\\Local\\Temp\\tmp04dhrhzx\\assets\n"
     ]
    },
    {
     "name": "stderr",
     "output_type": "stream",
     "text": [
      "INFO:tensorflow:Assets written to: C:\\Users\\38761\\AppData\\Local\\Temp\\tmp04dhrhzx\\assets\n"
     ]
    },
    {
     "data": {
      "text/plain": [
       "12000"
      ]
     },
     "execution_count": 35,
     "metadata": {},
     "output_type": "execute_result"
    }
   ],
   "source": [
    "# Convert Keras model to a tflite model\n",
    "import tensorflow as tf\n",
    "tflite_model_name = 'ts_forecast'\n",
    "converter = tf.lite.TFLiteConverter.from_keras_model(model)\n",
    "converter.optimizations = [tf.lite.Optimize.OPTIMIZE_FOR_SIZE]\n",
    "tflite_model = converter.convert()\n",
    "\n",
    "open(tflite_model_name + '.tflite', 'wb').write(tflite_model)"
   ]
  },
  {
   "cell_type": "code",
   "execution_count": 36,
   "metadata": {},
   "outputs": [],
   "source": [
    "# Function: Convert some hex value into an array for C programming\n",
    "def hex_to_c_array(hex_data, var_name):\n",
    "\n",
    "  c_str = ''\n",
    "\n",
    "  # Create header guard\n",
    "  c_str += '#ifndef ' + var_name.upper() + '_H\\n'\n",
    "  c_str += '#define ' + var_name.upper() + '_H\\n\\n'\n",
    "\n",
    "  # Add array length at top of file\n",
    "  c_str += '\\nunsigned int ' + var_name + '_len = ' + str(len(hex_data)) + ';\\n'\n",
    "\n",
    "  # Declare C variable\n",
    "  c_str += 'unsigned char ' + var_name + '[] = {'\n",
    "  hex_array = []\n",
    "  for i, val in enumerate(hex_data) :\n",
    "\n",
    "    # Construct string from hex\n",
    "    hex_str = format(val, '#04x')\n",
    "\n",
    "    # Add formatting so each line stays within 80 characters\n",
    "    if (i + 1) < len(hex_data):\n",
    "      hex_str += ','\n",
    "    if (i + 1) % 12 == 0:\n",
    "      hex_str += '\\n '\n",
    "    hex_array.append(hex_str)\n",
    "\n",
    "  # Add closing brace\n",
    "  c_str += '\\n ' + format(' '.join(hex_array)) + '\\n};\\n\\n'\n",
    "\n",
    "  # Close out header guard\n",
    "  c_str += '#endif //' + var_name.upper() + '_H'\n",
    "\n",
    "  return c_str"
   ]
  },
  {
   "cell_type": "code",
   "execution_count": 37,
   "metadata": {},
   "outputs": [],
   "source": [
    "# Write TFLite model to a C source (or header) file\n",
    "c_model_name='ts_forecast'\n",
    "with open(c_model_name + '.h', 'w') as file:\n",
    "  file.write(hex_to_c_array(tflite_model, c_model_name))"
   ]
  },
  {
   "cell_type": "code",
   "execution_count": null,
   "metadata": {},
   "outputs": [],
   "source": []
  }
 ],
 "metadata": {
  "kernelspec": {
   "display_name": "Python 3",
   "language": "python",
   "name": "python3"
  },
  "language_info": {
   "codemirror_mode": {
    "name": "ipython",
    "version": 3
   },
   "file_extension": ".py",
   "mimetype": "text/x-python",
   "name": "python",
   "nbconvert_exporter": "python",
   "pygments_lexer": "ipython3",
   "version": "3.8.8"
  }
 },
 "nbformat": 4,
 "nbformat_minor": 2
}
